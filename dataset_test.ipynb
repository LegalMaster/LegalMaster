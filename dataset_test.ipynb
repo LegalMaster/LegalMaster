{
 "cells": [
  {
   "cell_type": "code",
   "execution_count": 1,
   "metadata": {},
   "outputs": [
    {
     "name": "stderr",
     "output_type": "stream",
     "text": [
      "/home/laal_intern003/anaconda/envs/legal-master/lib/python3.8/site-packages/tqdm/auto.py:21: TqdmWarning: IProgress not found. Please update jupyter and ipywidgets. See https://ipywidgets.readthedocs.io/en/stable/user_install.html\n",
      "  from .autonotebook import tqdm as notebook_tqdm\n"
     ]
    }
   ],
   "source": [
    "# import modules\n",
    "from datasets import load_dataset\n",
    "from transformers import LlamaForCausalLM, LlamaTokenizer\n",
    "import argparse\n",
    "import socket\n",
    "from dataset import *\n",
    "import torch\n",
    "import os\n",
    "import json\n",
    "import pickle"
   ]
  },
  {
   "cell_type": "code",
   "execution_count": 2,
   "metadata": {},
   "outputs": [],
   "source": [
    "# Load data\n",
    "# data = load_dataset(\"json\", data_files=./data)\n",
    "\n",
    "tokenizer = LlamaTokenizer.from_pretrained(\n",
    "    './llama',\n",
    "    add_eos_token = True # add end-of-sentence token\n",
    ")\n",
    "tokenizer.pad_token_id = 0\n",
    "\n",
    "\n",
    "def generate_prompt(data_point):\n",
    "    return data_point[\"context\"]\n",
    "\n",
    "def tokenize(prompt,tokenizer, CUTOFF_LEN):\n",
    "    result = tokenizer(\n",
    "        prompt,\n",
    "        truncation=True,\n",
    "        max_length=CUTOFF_LEN + 1,\n",
    "        padding=\"max_length\",\n",
    "    )\n",
    "    return {\n",
    "        \"input_ids\": result[\"input_ids\"][:-1],\n",
    "        \"attention_mask\": result[\"attention_mask\"][:-1],\n",
    "    }\n",
    "\n",
    "\n",
    "def generate_and_tokenize_prompt(data_point, tokenizer, CUTOFF_LEN):\n",
    "    prompt = generate_prompt(data_point)\n",
    "    return tokenize(prompt, tokenizer, CUTOFF_LEN)\n",
    "\n"
   ]
  },
  {
   "cell_type": "code",
   "execution_count": 9,
   "metadata": {},
   "outputs": [
    {
     "name": "stderr",
     "output_type": "stream",
     "text": [
      "  0%|          | 0/1 [00:00<?, ?it/s]Found cached dataset lex_glue (/home/laal_intern003/.cache/huggingface/datasets/lex_glue/case_hold/1.0.0/8a66420941bf6e77a7ddd4da4d3bfb7ba88ef48c1d55302a568ac650a095ca3a)\n",
      "100%|██████████| 3/3 [00:00<00:00, 406.85it/s]\n",
      "100%|██████████| 1/1 [00:02<00:00,  2.58s/it]"
     ]
    },
    {
     "name": "stdout",
     "output_type": "stream",
     "text": [
      "Datasets are succesfully loaded\n"
     ]
    },
    {
     "name": "stderr",
     "output_type": "stream",
     "text": [
      "\n"
     ]
    }
   ],
   "source": [
    "case_hold = build_dataset(['case_hold'], './dataset')[0]\n",
    "dataset = case_hold"
   ]
  },
  {
   "cell_type": "code",
   "execution_count": 10,
   "metadata": {},
   "outputs": [
    {
     "name": "stderr",
     "output_type": "stream",
     "text": [
      "Map:   8%|▊         | 3765/45000 [00:05<00:55, 740.53 examples/s]"
     ]
    }
   ],
   "source": [
    "#dataset.select_columns(['context', 'endings'])\n",
    "CUTOFF_LEN = 512\n",
    "tokenizer = LlamaTokenizer.from_pretrained(\n",
    "    \"./llama\", add_eos_token=True\n",
    ")\n",
    "tokenizer.pad_token_id = 0\n",
    "def generate_prompt(data_point):\n",
    "    return data_point[\"context\"]\n",
    "\n",
    "\n",
    "def tokenize(prompt):\n",
    "    result = tokenizer(\n",
    "        prompt,\n",
    "        truncation=True,\n",
    "        max_length=CUTOFF_LEN + 1,\n",
    "        padding=\"max_length\",\n",
    "    )\n",
    "    return {\n",
    "        \"input_ids\": result[\"input_ids\"][:-1],\n",
    "        \"attention_mask\": result[\"attention_mask\"][:-1],\n",
    "    }\n",
    "\n",
    "\n",
    "def generate_and_tokenize_prompt(data_point):\n",
    "    prompt = generate_prompt(data_point)\n",
    "    return tokenize(prompt)\n",
    "\n",
    "train_dataest = dataset['train'].shuffle().map(generate_and_tokenize_prompt)"
   ]
  },
  {
   "cell_type": "code",
   "execution_count": 21,
   "metadata": {},
   "outputs": [],
   "source": [
    "def generate_prompt(data_point):\n",
    "    return data_point[\"input\"]\n",
    "\n",
    "\n",
    "def tokenize(prompt):\n",
    "    result = tokenizer(\n",
    "        prompt,\n",
    "        truncation=True,\n",
    "        max_length=CUTOFF_LEN + 1,\n",
    "        padding=\"max_length\",\n",
    "    )\n",
    "    return {\n",
    "        \"input_ids\": result[\"input_ids\"][:-1],\n",
    "        \"attention_mask\": result[\"attention_mask\"][:-1],\n",
    "    }\n",
    "\n",
    "\n",
    "def generate_and_tokenize_prompt(data_point):\n",
    "    prompt = generate_prompt(data_point)\n",
    "    return tokenize(prompt)"
   ]
  },
  {
   "cell_type": "code",
   "execution_count": 29,
   "metadata": {},
   "outputs": [
    {
     "data": {
      "text/plain": [
       "Dataset({\n",
       "    features: ['topic', 'input', 'input_ids', 'attention_mask'],\n",
       "    num_rows: 52456\n",
       "})"
      ]
     },
     "execution_count": 29,
     "metadata": {},
     "output_type": "execute_result"
    }
   ],
   "source": [
    "train_data"
   ]
  },
  {
   "cell_type": "code",
   "execution_count": 16,
   "metadata": {},
   "outputs": [
    {
     "name": "stderr",
     "output_type": "stream",
     "text": [
      "Loading cached split indices for dataset at /home/laal_intern003/.cache/huggingface/datasets/json/default-ea43db81aff75e51/0.0.0/e347ab1c932092252e717ff3f949105a4dd28b27e842dd53157d2f72e276c2e4/cache-d694195a3de92917.arrow and /home/laal_intern003/.cache/huggingface/datasets/json/default-ea43db81aff75e51/0.0.0/e347ab1c932092252e717ff3f949105a4dd28b27e842dd53157d2f72e276c2e4/cache-523ec231a7ab784c.arrow\n",
      "                                                                  \r"
     ]
    }
   ],
   "source": [
    "CUTOFF_LEN = 512\n",
    "quora_dataset = load_dataset('json', data_files = './data/quora_chat_data.json')\n",
    "data = quora_dataset\n",
    "tokenizer = LlamaTokenizer.from_pretrained(\n",
    "    \"./llama\", add_eos_token=True\n",
    ")\n",
    "tokenizer.pad_token_id = 0\n",
    "VAL_SET_SIZE = 2000\n",
    "if VAL_SET_SIZE > 0:\n",
    "    train_val = data[\"train\"].train_test_split(\n",
    "        test_size=VAL_SET_SIZE, shuffle=True, seed=42\n",
    "    )\n",
    "    train_data = train_val[\"train\"].shuffle().map(generate_and_tokenize_prompt)\n",
    "    val_data = train_val[\"test\"].shuffle().map(generate_and_tokenize_prompt)\n",
    "else:\n",
    "    train_data = data[\"train\"].shuffle().map(generate_and_tokenize_prompt)\n",
    "    val_data = None"
   ]
  },
  {
   "cell_type": "code",
   "execution_count": 20,
   "metadata": {},
   "outputs": [
    {
     "data": {
      "text/plain": [
       "['Is it dangerous to have a resting heart rate of 88 bpm? How can I lower it?',\n",
       " 'What are the best third-party spell checkers for myMail, Gmail and Outlook on my mobile?',\n",
       " \"What'd be the maximum wavelength of electromagnetic radiation we'd use to read a message in a paper?\",\n",
       " 'Do employees at Vector Group have a good work-life balance? Does this differ across positions and departments?',\n",
       " 'Why do some people on QUORA ask questions that they can easily findout on Google?',\n",
       " 'Which application is this? These are apps used by teachers to write down things and explain topics to students. I want the name of this application.',\n",
       " 'How can I find out what the total cost of living in Palo Alto for a year for a single 20-something would be?',\n",
       " 'Do black holes exist?',\n",
       " \"What is Billy Costa's mailing address?\",\n",
       " 'How shall I prepare for CA final Nov 16 exams',\n",
       " 'What are some of the best beaches in Goa?',\n",
       " 'How do I make money as a teen online?',\n",
       " 'What are jobs suited for good observer?',\n",
       " 'Republicans: What are your opinions on the first Trump-Clinton Presidential debate?',\n",
       " 'How does Julian Assange financially support himself?',\n",
       " 'What type of government does Turkey have? How does it compare to the one in Spain?',\n",
       " 'Have you ever been protected or assaulted by the State of Israel?',\n",
       " 'How much is one million and one billion in lakhs and crores?',\n",
       " 'If kids are born in UK from non British parents, how do they get citizenship?',\n",
       " 'How Elon Musk work?',\n",
       " 'What does P.S. really mean?',\n",
       " 'Where can I get my photographs professionally printed?',\n",
       " 'What is the average clothing size for a 12-year-old boy?',\n",
       " \"What's the country that sells the cheapest gold?\",\n",
       " \"What's the best cloud storage for you?\",\n",
       " 'How should I prepare four chapters of chemistry in a day?',\n",
       " 'What are the state capitals?',\n",
       " \"Why isn't sixth sense technology mainstream yet?\",\n",
       " 'Presently (2015) how many articles, parts and schedules are there in the Indian Constitution?',\n",
       " 'How competitive is the hiring process at TeamHealth?',\n",
       " 'What are some awesome and interesting farewell party games for college students?',\n",
       " 'What does R-O-R stand for? To what chemical compound is it generally related to?',\n",
       " 'How much time does it take to ship something First Class with USPS?',\n",
       " 'What is your opinion on The Venus Project?',\n",
       " 'How bad can a day be?',\n",
       " 'Why is Quora is time wasting?',\n",
       " 'How can I start to make money online?',\n",
       " 'Can I run Scilab on pcDuino board?',\n",
       " 'If we accept the Big Bang Theory as correct, what does this imply about the possibility of something like that occurring again?',\n",
       " 'What will the RBI do with the old 500 and 1000 rupees notes that they will receive?',\n",
       " 'How do I hide my friend list on Facebook?',\n",
       " 'Who invented the compound light microscope, and what was the importance of this invention?',\n",
       " 'What is it like to live in Africa?',\n",
       " 'What is the most complex program written in the brainfuck language?',\n",
       " 'What does \"まな\" mean in Japanese?',\n",
       " 'How do I make everyone love me?',\n",
       " 'What is NativeScript?',\n",
       " 'What is the best way to fight a speeding ticket in California?',\n",
       " 'How can I learn how to use LaTeX?',\n",
       " 'What is the first thing you would do as president?',\n",
       " 'What might be the next big and bold step of PM Modi after scraping big denominations?',\n",
       " 'Where can I find CPH4?',\n",
       " 'What is the molar mass of hydrocarbon?',\n",
       " \"I need some topic for my journalism dissertation? I'm pursuing my 2nd year in Journalism and Mass Communication under Calcutta University.\",\n",
       " 'Would ISIS dare to attack China?',\n",
       " \"What's wrong with Quora?\",\n",
       " 'What should I do to become a top writer on Quora?',\n",
       " 'How do you react when guys make fun of your acne?',\n",
       " 'How did the term \"private dick\" for a private investigator originate?',\n",
       " 'Cash: How much USD can I legally carry on my person in the United States at any given time?',\n",
       " 'Which colors combine to make brown?',\n",
       " 'My Gmail is hacked. How do I recover the password?',\n",
       " 'Is the concept of time travel realistic?',\n",
       " 'What is the most ridiculous answer you have seen on Quora?',\n",
       " 'How do I track my cheating partner?',\n",
       " 'Is hookah smoking harmless?',\n",
       " 'When is the patent on the drug Strattera going to expire?',\n",
       " 'How do I open a password protected .txt file?',\n",
       " 'Does sulfur really weigh two kilograms when dry, one kilogram when wet, and three kilograms when burnt?',\n",
       " 'Is salt an element, a compound, a mixture or a solution? How is it formed?',\n",
       " 'What are some obscure benefits of being raised in Russia?',\n",
       " 'How do you DM someone on Instagram using a computer?',\n",
       " 'After completing a BTech from normal local colleges, how can I get placed in top companies like Google, Microsoft, Facebook, etc. with good packages?',\n",
       " 'Do dating apps and sites really work?',\n",
       " 'What is the best way to stay connected?',\n",
       " 'How do I know when a guy is interested in another guy?',\n",
       " 'Where can I live in India without money?',\n",
       " \"What is the scariest horror movie you've even seen?\",\n",
       " 'Who are famous MILF porn stars?',\n",
       " 'How can I come to know that this girl really likes me or not?',\n",
       " 'Would the results of US Presidential election have been different if bernie sanders was the Democratic nominee?',\n",
       " 'If I have a permanent retainer, do I need to wear the removable ones at all?',\n",
       " 'Has machine learning made tangible improvements in drug discovery efficiency?',\n",
       " \"What is a more useful measure to judge a nation's economy: GDP (nominal) or GDP (PPP) and why?\",\n",
       " 'The sum of the first [math]n[/math] odd natural number is [math]n^2[/math], but what is the sum of first [math]n[/math] natural even number?',\n",
       " 'How can I be a volunteer at Olympics?',\n",
       " 'Why does metamorpho have a purple arm?',\n",
       " 'Why do people ask questions on Quora that are easily answerable via a quick internet search?',\n",
       " 'How do you get a man to commit?',\n",
       " 'Is there any chance there will be a new \"West Wing\" to help liberals weather the next 4 (8!) years of a Trump presidency?',\n",
       " 'What are some examples of a Mormon prayer?',\n",
       " 'What is the word to describe a person who loves life?',\n",
       " 'Which are the best sites to download PC games?',\n",
       " \"If time didn't exist before the Big Bang, how could the Big Bang possibly have happened?\",\n",
       " 'What trivia (and/or little-known facts) do you find interesting about Spain?',\n",
       " 'What makes a good “Engineer”?',\n",
       " 'Is there any software which provides unlimited gems in clash of clans?',\n",
       " 'Why do Indian girls wear shorts?',\n",
       " 'What is the difference between a cosmopolitan city and a metropolitan city?',\n",
       " 'What are differences and similarities among Tony Stark, Elon Musk, and Robert Downey Jr.?',\n",
       " 'What was your best and worst sexual experience?',\n",
       " 'What are the best universities for microibiology students to study in USA?',\n",
       " 'What are the most anticipated games in Spiel des Jahres 2016?',\n",
       " 'What comes to your mind when you hear or read the word \"México\"?',\n",
       " 'What is the difference between Secret.ly and Reddit?',\n",
       " 'What inspires you the most?',\n",
       " 'What kind of student appear in cat 2017?',\n",
       " 'Has the world ever become a better place?',\n",
       " 'Which country has more rape cases India or Pakistan?',\n",
       " '格局how to translate?',\n",
       " 'Why did he suggest to meet then ignored me then?',\n",
       " \"What's the best plan to lose weight?\",\n",
       " 'What are the biggest startups in terms of market valuation in Russia?',\n",
       " 'What are some of the highest paying jobs in India?',\n",
       " 'What is the easiest way to learn how to draw?',\n",
       " 'What are the best English tutorials on YouTube for Indians?',\n",
       " 'What is the difference between socializing on the web and socializing - within physical proximity of one another - in real life?',\n",
       " 'How can I stop getting irritated?',\n",
       " 'Can stress or being depressed cause a tooth ache?',\n",
       " 'What are some good jobs for JD but non-lawyers?',\n",
       " 'What exactly is Yelp and how can Yelp help grow my business?',\n",
       " 'Boys in love?',\n",
       " 'How will we become extinct?',\n",
       " 'How can I convert SWF files to PDF?',\n",
       " 'What could we do to make scientists investigate what humans are actually feeling or referring to when they speak of \"spiritual enlightenment\"?',\n",
       " 'What does it mean when a boy touches your tighs with their hand?',\n",
       " 'How can I restore a mobile-number only Facebook messenger account?',\n",
       " 'Is it good idea to call my ex bf after we broke up?',\n",
       " 'Can you share your thoughts on the effect of open source software on enterprise start ups?',\n",
       " 'How do chat messenger like telegram generate revenue?',\n",
       " 'Is there any chance of enquiry from IT Department if housewife deposit Rs 2 lakh in her Jan Dhan account or dormant account with no income?',\n",
       " 'My Instagram is set up with an email I no longer have access to. How do I change my password for Instagram without my email password?',\n",
       " 'Based on their Olympic success. Is Great Britain, pound-for-pound, the greatest sporting nation on earth?',\n",
       " 'How do I get willpower?',\n",
       " 'How can I improve my communication skill and English proficiency?',\n",
       " \"What's the best sound that helps you fall asleep?\",\n",
       " 'What are some of the most underrated movies?',\n",
       " 'How do I pursue a career in game development?',\n",
       " 'How do I get rid of my fear of violence?',\n",
       " 'Should prostitution be legalized in India? Why?',\n",
       " 'Do people who work for minimum or low wages feel like slaves to society?',\n",
       " 'What can I do with 2500 USD for four months in NYC?',\n",
       " 'Why are you marking my question as needing improvement?',\n",
       " 'What can be the reasons for discontinuation of 500 and 1000 rupee notes? What can be the future effects of it?',\n",
       " 'Very strange and weird things happen in my early morning dreams. Where do these strange things come from in my dreams? Do they have any meaning regarding the future?',\n",
       " 'Could Napoleon have won the Napoleonic Wars?',\n",
       " 'What does it feel like to be pregnant?',\n",
       " 'How do I keep the faith when everything is going wrong in my life?',\n",
       " 'What does this phrase mean: \"But can they do it on a cold rainy night in Stoke\"?',\n",
       " 'Which is the best smart phone around 15k?',\n",
       " \"What was the cotton gin's impact on American slavery?\",\n",
       " 'Which is the best search engine?',\n",
       " 'What jQuery plugin can do this job?',\n",
       " 'My girlfriend loves me and another guy, what should I do?',\n",
       " \"Is it true that men don't like women who know about sex very well?\",\n",
       " 'How do I \"close\" a question on Quora?',\n",
       " 'Do girls play counter strike game?',\n",
       " 'Mexican Immigrants in USA: What does \"paisa\" mean?',\n",
       " 'It is possible to reduce waist size from 34 inch to 28 inch in 6 months?',\n",
       " 'How does I become an entrepreneur?',\n",
       " 'Should capital gains be taxed?',\n",
       " 'What is the best photo in the world?',\n",
       " 'What does Saul Bass\\'s quote, \"Symbolize and summarize\", mean?',\n",
       " 'How do I download a free sample from Google Books?',\n",
       " 'Is there any way I can reach out to Dushka Zapata?',\n",
       " 'If Winston Churchill was on Twitter, what things would he tweet?',\n",
       " 'Suffering eye pain and headache from 2 years.consulted so many doctors no one could solve it.help?',\n",
       " 'I need to prepare a case study based on some currently ongoing business problem/strategy-change in any (taxation/finance/business process) US firm. I need to assess the problem, come up with solution and then make a presentation out of it. Can anyone suggest topics?',\n",
       " 'Which is the best career for women, except teaching?',\n",
       " ' The Mortal Instruments (book series): Will Jace and clary get married?',\n",
       " 'Why are people on social networking sites annoying?',\n",
       " 'What are the steps taken by the Chhattisgarh government for the development of the state?',\n",
       " 'How does a civilian join a NASA HERA mission?',\n",
       " 'How can we imagine the 4th dimension?',\n",
       " 'How do I come out of a menstrual cycle stomachache?',\n",
       " 'Where can I get very smooth and uncomplicated assistance in Sydney for any property transaction?',\n",
       " 'What would happen if every human shrunk down to the size of an ant?',\n",
       " 'What is scope of Java in future?',\n",
       " 'What was the point of making Dumbledore gay?',\n",
       " 'Why is Facebook forcing you to crop your profile pic?',\n",
       " 'How banning 500 and 1000 rupee can affect black money?',\n",
       " 'How can we improve the education system for high school and college?',\n",
       " 'What are some lines about interesting things which manage to make those things look boring?',\n",
       " 'When will we achieve immortality?',\n",
       " 'What are the best GMAT coaching in Delhi/NCR where I can get all the facilities?',\n",
       " 'How do I get motivation to study hard?',\n",
       " \"Who are the most interesting players on Japan's 2014 World Cup team?\",\n",
       " \"Why is 'zero divided by zero' is not defined?\",\n",
       " 'Is there anyone on Quora who cracked the IBPS SO IT without coaching?',\n",
       " 'How do you determine the formula of the stiffness of a spring?',\n",
       " \"Why is it that you die when you cut some arteries (or vein) of your hand, but you don't die when your arm is cut?\",\n",
       " 'What songs make you feel bad?',\n",
       " 'How do I plan a bridal shower party?',\n",
       " 'How do I run faster?',\n",
       " 'Is Savitar faster than Zoom and Reverse Flash?',\n",
       " 'How bda helps in data analytics?',\n",
       " 'What does it mean when someone says \"saying nothing sometimes says the most\"?',\n",
       " 'Does culture influence architecture?',\n",
       " \"What are the stereotypical years of each decade's culture?\",\n",
       " 'What will be the procedure of counselling of neet 2016 in private colleges?',\n",
       " 'In the US Army where does a SPEC-4 fit into the chain of ranks?',\n",
       " 'What are some unusual aspects about politics and government in Malaysia?',\n",
       " 'Where is the difference between Raspberry Pi & Arduino?',\n",
       " 'How do I make money by making Instagram posts?',\n",
       " 'What is your most precious gift?',\n",
       " 'What is the best way to get healthy?',\n",
       " 'Is it right time to associate the car with Uber Pune?',\n",
       " 'What are the best questions to ask yourself regularly in order to make progress in your life, towards your goals?',\n",
       " 'Why do girls have a problem being girly, while men always want to be manly?',\n",
       " 'What is good with Southern Comfort?',\n",
       " 'Which are books one must read in life?',\n",
       " 'What are methods for finding lots of sales leads that are ready to buy?',\n",
       " 'How do I talk to my old friend?',\n",
       " 'How can you legally make SpongeBob gifs?',\n",
       " 'What does Denzel say in Spanish in Training Day?',\n",
       " 'What are the greatest comebacks in history?',\n",
       " 'How was Freedom-251 designed to be so cost-efficient?',\n",
       " 'What is an OpenGL graphics system diagram?',\n",
       " 'Why do we eat ice cream when we are depressed?',\n",
       " 'Does my dog really love me or is she simply acting on survival instinct (food, water, shelter)?',\n",
       " 'Do Westerners (Americans, Europeans) perceive Chinese and other East Asian people to be ugly in appearance?',\n",
       " 'Should hamsters eat popcorn?',\n",
       " 'How can I prepare my CV?',\n",
       " 'What were the major effects of the cambodia earthquake, and how do these effects compare to the Lima-Callao earthquake in 1746?',\n",
       " 'How did vivaldi make a lasting impact on classical music?',\n",
       " 'What are good cameras for product photography?',\n",
       " 'Why do I experience chest pain while I playing football (Soccer)?',\n",
       " 'What are the best ways to lose weight fast?',\n",
       " 'In the \"Just\" music video by Radiohead, what does the man on the pavement say towards the end that makes everyone else lie down?',\n",
       " 'How is Hillary Clinton in real life? Is she nice and approachable? Is she genuinely kind-hearted?',\n",
       " \"My Instagram account is disabled and I didn't do anything wrong. What can I do? And what caused this mistake?\",\n",
       " 'What is the expected cutoff for KVPY 2016 SA -stream 2016?',\n",
       " 'How should I respond to “Are you authorized to work permanently in the location in which you are expressing an interest?” for a foreign internship?',\n",
       " \"How do know when you're in love?\",\n",
       " 'How safe are ready to eat products?',\n",
       " 'The pen is mightier than the sword. debate topic?',\n",
       " 'Is there an Airbnb for car-sharing in Canada?',\n",
       " 'Why is social media so addictive for some people?',\n",
       " \"I just received an offer to start training to become an astronaut, but I'm concerned about cosmic radiation. What should I do?\",\n",
       " 'How can I withdraw money from neteller as I got some real money in the account?',\n",
       " 'How do I known that someone viewed my Facebook profile?',\n",
       " 'Was Achilles a real character? If so, how do we know he actually existed?',\n",
       " 'How do you make easy money online?',\n",
       " 'How did Portugal, given its proximity, never become conquered by Spain?',\n",
       " \"I'm trying to keep a friend who doesn't appreciate our friendship. What should I do?\",\n",
       " 'Can a human survive a nuclear blast by getting into a refrigerator?',\n",
       " 'How do you overcome fear?',\n",
       " 'Is Donald Trump the 666 Antichrist?',\n",
       " 'Does the moon always shine?',\n",
       " 'What are some tips on making it through the job interview process at New York REIT?',\n",
       " 'How do I delete an answer for a question that I asked on Quora?',\n",
       " 'What are the benefits of doing an MBA after getting an undergraduate degree in zoology?',\n",
       " 'Why do many Indians want to leave India to settle abroad?',\n",
       " \"Can God make a boulder so heavy he can't lift it?\",\n",
       " 'How can I get a passport in a week?',\n",
       " 'Do you consider Trump a pervert?',\n",
       " 'What should I do when my frIend(guy) slapped me in front of public just bcz I got angry with him on his mistake?',\n",
       " 'How do I learn Chinese online?',\n",
       " 'What would happen if a normal person took an injection of insulin?',\n",
       " 'Is 158 a good IQ?',\n",
       " 'How are currency rates determined?',\n",
       " \"Why can't Government of India introduce Dual Citizenship to India?\",\n",
       " 'Which is the best site to download books?',\n",
       " 'What are the best books for IBPS PO?',\n",
       " 'If you could take one alien species from Star Wars and put them into Star Trek, which one would it be and why?',\n",
       " 'Why is it so hard for Trump supporters to empathize with liberals?',\n",
       " 'How did Eminem write \"Hailie\\'s Song\"? What special meaning does it have for him?',\n",
       " 'If you had the power to change the education system, what would you do?',\n",
       " 'Is it okay for a Christian to watch porn?',\n",
       " 'What is the best Quickbooks technical support number?',\n",
       " 'What is the barrier to entry for the real estate job market?',\n",
       " 'What can I do to get a flat tummy?',\n",
       " 'Is Katrina Kaif an actress?',\n",
       " 'What is -28 - 11?',\n",
       " \"What's the shadiest tactic you've witnessed HR use at your job?\",\n",
       " 'Is time travel possible through cosmic strings?',\n",
       " 'What is the remainder when [math]x^{1999}[/math] is divided by [math](x^2-1)[/math] ?',\n",
       " 'What are some examples of mechanical weathering?',\n",
       " 'How could I adjest myself if jobs are not avail after study?',\n",
       " 'What are the laws and regulations regarding bail bonds in Alabama and how does it differ from Arizona?',\n",
       " 'What are some movies similar to \"L\\'auberge espagnole\"?',\n",
       " 'What is the best photo you have taken with your cell phone?',\n",
       " 'I have not received my salary of last two and suddenly company askd me to lay off? What should I do?',\n",
       " 'What are the tips and hacks for getting the classes that you want as a freshman at Chicago State?',\n",
       " 'What is the ratio of downvotes to upvotes required to collapse an answer?',\n",
       " 'My PS3™ is broken.?',\n",
       " 'How do i get along with my roommate?',\n",
       " 'What is the meaning of the phrase \"when in Rome\"?',\n",
       " 'What is the difference between speed and velocity in physics? What are some examples?',\n",
       " 'Daniel Ek: Are there any future plans of releasing Spotify in India?',\n",
       " 'What negotiation tactics does Eric Schmidt use?',\n",
       " 'What are all of the beliefs of Black Hebrew Israelites?',\n",
       " 'Can I use BSNL Broadband with just a WiFi router and no modem?',\n",
       " 'He said he likes me but he needs to study. Is there anything I can say to change his mind?',\n",
       " 'Which is the best coaching institute for GMAT in mumbai?',\n",
       " 'Indian consumer spending pattern (industry level specifics)? References also appreciated if, they come along with the amount spent.',\n",
       " 'What is it like to know someone with dissociative identity disorder or be someone with the disorder?',\n",
       " 'If you have unlimited cash supply what job will satisfy you?',\n",
       " 'I left my JEE coaching in mid of 11th should I join again because from now board marks are not included?',\n",
       " 'What is a good way to invest 90 Lakh (in Bangalore) that you have unexpectedly received?',\n",
       " 'What is the best free GUI PostgreSQL client for Mac OS X?',\n",
       " 'What are the pros and cons of the German Shepherd dog?',\n",
       " 'If someone is 35 years old and gets a 20 year life term policy, can they get another 20 or 30 year term policy once the 20 year policy period ends?',\n",
       " 'What are some of your favorite homemade desserts?',\n",
       " 'How can you properly bleach a carpet?',\n",
       " 'Why are Quora moderators deleting all factual comments and keep their own false comments in Quora?',\n",
       " \"What's the purpose of a human life?\",\n",
       " 'What are some of the worst things happening in the world right now everyone should know about?',\n",
       " \"How does taking Adderall/Ritalin before bed affect one's sleep?\",\n",
       " 'Which is the best sex position?',\n",
       " 'What white label ad serving solutions are there to start your own advertising network of sites?',\n",
       " 'How many 16.9 fl oz water bottles equals 1 liter?',\n",
       " 'Do winter and online classes transfer?',\n",
       " 'How is frame relay different than Ethernet?',\n",
       " 'How come seemly logical and ethical people are even thinking of voting for Donald Trump?',\n",
       " 'How are recruiters recruited?',\n",
       " 'What are the best tips for stoping masturbation/porn addiction?',\n",
       " 'Is a student not residing in a paticular state but born there eligible for domicile?',\n",
       " 'What makes you proud of your country? Why?',\n",
       " 'What is the best way for a 25 y o student with some time left for school to straighten a debt to the bank and to other people?',\n",
       " 'What is it like to switch to a MacBook, after being a Windows user for years?',\n",
       " 'What causes some chickens to lay brown eggs, and some to lay white?',\n",
       " 'What is the best question you ever asked on Quora?',\n",
       " 'Why are books better than television?',\n",
       " 'How strict are hostels?',\n",
       " 'Is apple juice acidic or basic? Why?',\n",
       " \"Wife surname change.Marriage certificate and her passport is having her maiden name.Now we want to change it to husband's surname?\",\n",
       " 'On Messenger, what does the green dot besides the phone icon mean?',\n",
       " 'which sector is good to start a career, corporate sector or banking sector?',\n",
       " 'What is the best way to understand and learn maths?',\n",
       " 'Which is the best college for an MBA in HR?',\n",
       " 'How cold can the Gobi Desert get, and how do its average temperatures compare to the ones in the Great Victoria Desert?',\n",
       " 'What does the expression \"Bye Felicia\" mean?',\n",
       " 'Where are the entrances to the High Line park in Manhattan?',\n",
       " 'Which is the best institute for GRE coaching in Kolkata?',\n",
       " 'Are there any 50cc automatic motorbikes like the Gilera Dna 50?',\n",
       " 'How do nonprofit organizations pay employees?',\n",
       " 'What are p notes?',\n",
       " 'What diseases are caused by lymphs?',\n",
       " 'Will using bluetooth headphone cause damages to head?',\n",
       " 'When renting a car, what is the difference between a compact and economy car?',\n",
       " 'How do you use the word castigate in a sentence? What are some published examples?',\n",
       " 'Do Chinese people consider Ryukyu/Okinawa as part of China?',\n",
       " 'What is the cheapest, painless, easiest way to commit suicide?',\n",
       " 'I need a career advice. Can someone please help?',\n",
       " 'How do I get my old Facebook account back?',\n",
       " 'Why was the Shahrukh Khan starrer \"Fan\" a flop?',\n",
       " 'What is the meaning of our life?',\n",
       " 'I do not have a surname on passport or any of my education certificates. What should be the most appropriate step now to fix the issue?',\n",
       " 'What is the difference between Oracle and PeopleSoft?',\n",
       " 'Can I get taller than 5 foot 7 at age 20?',\n",
       " 'Is it too late to go to medical school at 24?',\n",
       " 'Songs similar Action Bronson - A light in the addict?',\n",
       " \"What is the best sunblock lotion in Australia? Can woolworths' every day spf 50 work as well as Banana Boat Sport Spf 50?\",\n",
       " 'What are some of the best documentaries on The Beatles?',\n",
       " 'Who provides Android app developer courses online?',\n",
       " 'What can rest of the world learn from India?',\n",
       " 'What are the top 100 most interesting eBay Categories?',\n",
       " 'Which has better apps: iOS or Android?',\n",
       " 'Why is there a blue flame in burning LPG gas and a yellow flame on burning wood?',\n",
       " 'Who is blasie pascal?',\n",
       " 'What is difference between standard deviation and mean deviation?',\n",
       " 'How should I plan my bike trip from Chennai to goa?',\n",
       " 'How do I delete my question from Quora?',\n",
       " 'In Freemasonry, why do we open the bible on Psalms 133 in the first degree?',\n",
       " 'What will be the impact of GST on IT Sector?',\n",
       " 'Is America likely to have a civil war?',\n",
       " 'Where can I get nursery and baby prints on cotton fabric in Delhi?',\n",
       " 'How does culture influence fan behavior?',\n",
       " 'Do I lose page rank if adding many internal links to a page?',\n",
       " 'What happens to the boundary layer thickness if fluid velocity increases?',\n",
       " 'Where is the Baraka River located, and how does it compare to the Missouri River?',\n",
       " 'I put a lock screen password In Samsung galaxy j5 but It was not working and when I tried to change password it is not accepting my password?',\n",
       " 'Why are questions sometimes merged with other questions asked by other persons?',\n",
       " 'How come nobody is answering my questions in Quora?',\n",
       " 'How can I continue using Uber if I change countries without changing my account?',\n",
       " 'How does the Mi Band track my sleep?',\n",
       " 'What are monomials, binomials and trinomials? What are their differences?',\n",
       " 'What is angel investing? How to do it if I lived outside U. S?',\n",
       " 'What exactly is Dragon Ball Kai and how was it produced compared to Dragon Ball and Dragon Ball Z?',\n",
       " 'What are the best sites to download movies?',\n",
       " 'What should you do if your girlfriend is not a virgin?',\n",
       " 'Which is the best book to learn programming in C for beginners?',\n",
       " 'What age did you have sex for the first time?',\n",
       " 'What is the best thing to see or do in San Francisco?',\n",
       " 'How do I change my airtel postpaid to prepaid?',\n",
       " 'What is most important thing in life? Can we categorize it?',\n",
       " \"Who would I choose? The person who love me but I don't love, or the person who I love but doesn't love me?\",\n",
       " 'What was your strategy for ESE in Electrical Engineering?',\n",
       " 'What is it like to work in Asahi India Glass? What will be the pay scale after one or two years?',\n",
       " 'Can I create a Stripe account without a SSN?',\n",
       " 'What happens after we die?',\n",
       " 'I took 200 pills of Benadryl at once. Will I die?',\n",
       " 'Is Django CMS a good starting point for a software port from a Windows installable application to a cloud based service?',\n",
       " 'How does the Laravel authentication work?',\n",
       " 'Chess: Who was better, Fischer or Kasparov?',\n",
       " 'Does pulled out hair grow back?',\n",
       " 'How can I lose weight quickly? Need serious help.',\n",
       " 'What are some scary horror stories that happened in real life?',\n",
       " 'What are the national games of different countries?',\n",
       " 'What are some real life examples of deadlock?',\n",
       " 'How is the promotion of an IPS?',\n",
       " 'What is the best way for making money online?',\n",
       " 'Why is Donald Trump a misogynist piece of donut?',\n",
       " 'Who invented the English alphabet?',\n",
       " 'How do you describe a sexy boss?',\n",
       " 'How cold can the Gobi Desert get, and how do its average temperatures compare to the ones in the Chihuahuan Desert?',\n",
       " 'What should I do to become an RJ in Indore?',\n",
       " 'Why is CSE at IIITD considered better than CSE at NSIT?',\n",
       " 'What are some good books to read while traveling around India for a few months?',\n",
       " 'How can I become a fighter pilot?',\n",
       " 'What is the procedure to get transcripts from GJU Hisar?',\n",
       " 'What is the best tool for photo editing?',\n",
       " 'Is it possible to become a CM without being an MLA in that state?',\n",
       " 'Why is data analysis used?',\n",
       " \"What's a Mac-friendly way to reformat a 1:1 video as 16:9?\",\n",
       " 'Is there a difference in quality between wired and wireless headphones? If so, why?',\n",
       " \"How does one know it's a friends with benefits relationship?\",\n",
       " 'Do distance relationships work? How can you make it work?',\n",
       " 'Why do some men think that sending a woman a \"dick pic\" will increase the chances of intercourse?',\n",
       " 'What are some of the best roadside, non-vegetarian dhabas in Mumbai?',\n",
       " \"Will I have another grow spurt Will I hit 5'10 I'm 5'7 or 5'8 male 17 year old my mom 5'5 dads 5'10?\",\n",
       " 'What are the chances that Airbnb will last into the 2030s/2040s?',\n",
       " 'Who will win the election TRUMP or CLINTON?',\n",
       " 'What is your view on supreme court current decision on playing national anthem before the start of the movie?',\n",
       " 'What is the legal definition of a human being? What makes humans legally different from animals?',\n",
       " 'What motivates a seafarer to move ashore permanently for a job?',\n",
       " 'Is it okay if I see my fiance taking picture with his friend standing close to her?',\n",
       " 'What makes a short story different from a novel?',\n",
       " 'When and how did time begin?',\n",
       " 'How can taking Ensure help me gain weight faster?',\n",
       " 'Whether Tibet is part of India, if not then why?',\n",
       " 'I purchased a new laptop and it has DOS operating system. How can I install Windows 8.1 on that?',\n",
       " 'How do I recover lost photos and videos from a Samsung Galaxy?',\n",
       " 'R E Himalayan comes with a BS III engine. Should I buy one now when BS IV will be implemented in April 2017? What are the implications?',\n",
       " 'How do I make poached eggs on toast?',\n",
       " 'Why can\\'t I see all the \"likes\" on a person\\'s Facebook status?',\n",
       " 'What are some good psychological hacks?',\n",
       " 'What should I opt \"MS in operation research or MBA in operation management\", having 5 year work experience and keen to switch my field?',\n",
       " 'How can I find out who owns a piece of land in Canada?',\n",
       " 'Why are so many people unhappy?',\n",
       " 'Membership site: How much should I set for the membership fees?',\n",
       " \"What is the meaning of Marathi word 'Pahije'?\",\n",
       " \"I'm 15.5 years old and my height is 5'9.5 . Is it good?\",\n",
       " 'What is the difference between magnetic charge and electric charge?',\n",
       " 'What is the best bait for fishing sun perch fish?',\n",
       " 'What is best laptop under 40000 rupees?',\n",
       " 'What is your favourite country band/singer?',\n",
       " 'What are the best ways to build a web application?',\n",
       " 'Where can I get quality assistance in Sydney for any property transaction?',\n",
       " 'How can you tell the difference between the BTS members?',\n",
       " 'Should I fully charge my newly purchased MacBook Air before the first use? If so, for how long?',\n",
       " 'Where can I deposit old Rs. 500 & Rs. 1000 notes after 30 December 2016?',\n",
       " 'Could I get a summary of Kill shot by Vince Flynn?',\n",
       " 'What are the best cafes in Lahore for students?',\n",
       " 'How you rate Great Lakes Chennai or Gurgaon for PGPM?',\n",
       " 'What is meant by \"forming a more perfect union\" and what are some examples?',\n",
       " 'How do I start an online advertising company?',\n",
       " 'Saudi Arabia in 2016: What oil price does Saudi Arabia need to balance its budget?',\n",
       " 'How would the British Conservative Party (Tories) compare with the US Democratic or Republican party?',\n",
       " 'What is the cost of Cloudera Hadoop certification in INR, and is it valuable?',\n",
       " 'What is the best tag line for Quora?',\n",
       " 'How do I visit Tarak Mehta set?',\n",
       " 'What are the multiple functions of proteins?',\n",
       " \"What's the hardest instrument to play?\",\n",
       " 'What are some things new employees should know going into their first day at Citizens?',\n",
       " 'Is there something wrong with the younger generation today?',\n",
       " 'What is your review of Notion Press?',\n",
       " 'Do People flirt using Quora?',\n",
       " 'Who makes sure China does not just print billions of $, to maintain their economic wealth?',\n",
       " 'What is the expected cutoff for KVPY 2016 SA -stream 2016?',\n",
       " 'Which cars have the best built in HEPA air filters?',\n",
       " 'Which team do you think will win the 2016/17 epl?',\n",
       " 'What are the various ways to create a “/proc” entry in Linux?',\n",
       " 'How long does meat last in the freezer? What can be done to preserve them longer?',\n",
       " 'Does anyone heard about the real estate company Safe Rent Delivery? I want to rent through them.',\n",
       " 'Which is the best laptop I can buy in india for Rs.25000-30000?',\n",
       " 'What should be the first programming language I learn if I want to become a game developer?',\n",
       " 'Is it possible to unlock Straight Talk Apple iPhone 5S?',\n",
       " 'Why did the Natwest UK freeze the bank account of the Russia Today?',\n",
       " \"What is the faction of ULIMO-J in the Liberian Civil War that challenged Roosevelt Johnson's leadership called?\",\n",
       " \"How do I see who's viewed my Instagram profile?\",\n",
       " 'What is the difference between rabies and meningitis?',\n",
       " 'Which is the best website to learn Java?',\n",
       " 'What is the speed of a photon falling in a black hole?',\n",
       " 'How can I make people to talk good & caring about me?',\n",
       " 'Martial Arts: What should I do to learn the fighting skills shown in Jack Reacher movie?',\n",
       " 'Why do I wake up way before my alarm goes off?',\n",
       " 'How long it take to for software?',\n",
       " 'What has Scott Forstall contributed to Apple?',\n",
       " 'What are the best places to visit in Wayanad, Kerala?',\n",
       " 'Were the Dark Ages really pretty dark?',\n",
       " 'Will caste system come to an end?',\n",
       " 'How do vinegar and baking soda react?',\n",
       " 'For cosplay purposes, what type of sweater does Cloud Strife wear?',\n",
       " 'What should I follow to keep myself fit without going to gym?',\n",
       " 'Should a man change his underwear daily? Also, after wearing a pair of underwear once, is it advisable to invert it and wear it just one more time?',\n",
       " 'Is artificial intelligence really the end of humanity?',\n",
       " \"What am I missing in life if I don't drink and smoke?\",\n",
       " \"My girlfriend doesn't want to share our relationship on Facebook. Should I be happy with this? What might her (untold) reasons be?\",\n",
       " 'What are the pros and cons of eating peacock meat?',\n",
       " 'What is the worst war crime ever committed?',\n",
       " 'What happens when we charge our mobile with 5V 2A rated charger instead of 5V 1A rated charger? Will charging faster damage the battery?',\n",
       " 'How many valence electrons does sulfur have?',\n",
       " 'Which will be the best headphone below INR 1000?',\n",
       " 'What are other question-asking websites like Quora?',\n",
       " 'How do I hack someones phone messages?',\n",
       " 'What are the best MBA colleges in Coimbatore?',\n",
       " 'What are 20 random facts about yourself?',\n",
       " 'What is the best oil for deep frying wings?',\n",
       " 'How can I buy fake passports online?',\n",
       " 'Which MCQ books should I prefer for MH-CET so I can get COEP and CS branch?',\n",
       " \"What it feels like to be very old and thinking that you'll die with in few years?\",\n",
       " \"What are some mind-blowing facts that sound like 'BS', but are actually true?\",\n",
       " 'What details do you require to buy a laptop on EMI in India?',\n",
       " 'How should I prepare for GATE 2016 EE in 5 months to get a rank below 500?',\n",
       " 'What incident has traumatized you for good?',\n",
       " 'What is a suitable solar panel installation provider near Laveen, Arizona AZ?',\n",
       " 'Is speed continuous or discrete?',\n",
       " 'Should \"transabled\" people be affirmed in their desire to become disabled?',\n",
       " 'Cocktails: Do bitters need to be refrigerated? Do they go bad?',\n",
       " 'How does one score good marks in MAKAUT?',\n",
       " 'How do we protect our ideas from being copied by others?',\n",
       " 'What will be the best laptop under 65K INR?',\n",
       " 'Could anyone help me with the best IAS coaching centers in Hyderabad?',\n",
       " 'How does the principle of Civic Responsibility play out at Burning Man? How is it followed or not followed and what are the results?',\n",
       " \"What should I reply in return when someone say I missed you, I love you, You look beautiful, etc when I already know that they don't mean it. Because I know replying back with I missed you too, I love you too, etc. would be a lie too?\",\n",
       " 'What is the best place to stay in pondicherry?',\n",
       " 'What are your views on Modi governments decision to demonetize 500 and 1000 rupee notes? How will this affect economy?',\n",
       " 'How can one prepare to clear any Java interview?',\n",
       " 'Will Narendra Modi become PM after the 2019 general elections?',\n",
       " \"How is 'Full-stack Digital Marketer Masters Program' by Simplilearn.com?\",\n",
       " 'How do I cope with the loss of my wife?',\n",
       " 'Was Nandani the real wife of Chandragupta Maurya?',\n",
       " 'How winning money from YouTube?',\n",
       " 'How do I create a wired connection on Wii?',\n",
       " 'How do I improve my writing skills?',\n",
       " 'Why are some substances more soluble and some are less soluble?',\n",
       " 'How do I crawl data from dynamic websites?',\n",
       " 'What are the characteristics of greatness?',\n",
       " 'How can I get venture capital funding for my company?',\n",
       " 'What are some interesting fact an Indian currency?',\n",
       " 'Where can I get flexible horse fence solution in Sydney?',\n",
       " 'What is the difference between automatic and semi-automatic firearms?',\n",
       " \"What do you call a teenage boy who's attracted by older females?\",\n",
       " 'How can we stop pregnancy by medicine?',\n",
       " 'What are some facts about business?',\n",
       " 'Which is the first venture capital firm in India?',\n",
       " 'Why do some people push others away, even though they dearly love them?',\n",
       " 'Why do some people today still believe that the Earth is flat? What evidence has convinced them that this is so?',\n",
       " 'Can I increase my height after 20 ? How?',\n",
       " 'How do I make my penis bigger?',\n",
       " 'Is going to Kota worth it?',\n",
       " 'Does Luke receive any training between Empire Strikes Back and Return of the Jedi?',\n",
       " 'Where does Northern California end and Southern California begin?',\n",
       " 'Why do we sometimes suddenly forget a thing which we otherwise remember ?',\n",
       " 'What are the features of the Indian caste system?',\n",
       " 'What is the most interesting way to learn about history?',\n",
       " 'What kind of president would Ted Kennedy have been?',\n",
       " 'What is the best question that should be your first question on Quora?',\n",
       " 'What is the best way to learn Multithreading in Java?',\n",
       " 'Are there any free fonts for Western letters that look like Chinese calligraphy?',\n",
       " 'Can I make 70,000 a month playing poker?',\n",
       " 'What is teamcenter?',\n",
       " \"How do people still think the Earth is flat even though it's proven wrong?\",\n",
       " 'Which is the best book on tensors?',\n",
       " 'What does hanging yourself feel like?',\n",
       " 'How do I treat sleep apnea without CPAP mask?',\n",
       " 'How can one grow a thick beard at a faster rate?',\n",
       " 'How do I become an umpire in cricket in India?',\n",
       " 'Why do people eat gold?',\n",
       " 'What are some special cares for someone with a nose that gets stuffy during the night?',\n",
       " 'What are some of the best camping tools and gadgets?',\n",
       " 'Why does fire emit light?',\n",
       " 'How do I promote my music and make money?',\n",
       " 'Which are the Best Known Drop Shipping Companies in India for Retail eCommerce?',\n",
       " 'What should I gift to my teacher?',\n",
       " \"How do you fix a Google Play Store account that isn't working?\",\n",
       " 'How do you prioritize a product backlog?',\n",
       " \"What are Sodexo coupons? Why does a company give Sodexo coupons to its employees? What's the business model of Sudexo?\",\n",
       " 'Which movies do I need to watch before watching Avengers: Age of Ultron?',\n",
       " 'What does an abortion taste like?',\n",
       " 'Is there no real difference between humans and other animals?',\n",
       " 'What is keeping Arsenal from winning the Premier League?',\n",
       " 'How long can a question be on Quora?',\n",
       " 'What is the job profile for computer science engineers at Hindustan Unilever?',\n",
       " 'How did Duke Ellington start playing the piano?',\n",
       " 'How would do you describe a person with lots of interests?',\n",
       " 'Given access to the same facts, how is it possible that there can be disagreement between experts in a discipline?',\n",
       " 'What is best way to make money online?',\n",
       " 'Is there any particular reason behind the launch of 2000 Rs notes?',\n",
       " 'How do I speed up my laptop?',\n",
       " 'Why is Maui so much better than Honolulu?',\n",
       " 'How can I gain weight within month?',\n",
       " 'What is Zipcar?',\n",
       " 'What happens in a U.S. Federal agency after a presidential transition, but before its Cabinet secretary is confirmed?',\n",
       " \"In May/June next year I'm planning a 3 week holiday to Texas. What should I do?\",\n",
       " 'Should I be able to attend Yale?',\n",
       " 'What is/are your New Year resolutions for 2017?',\n",
       " 'How long does rabies vaccine takes to be effective?',\n",
       " \"I'm an 18 year old girl but I only like older men around 30-40 I just don't find guys my age appealing as I feel less safe and protected what do I do?\",\n",
       " \"How do snipers avoid getting bitten by dangerous animals when they're lying down?\",\n",
       " 'How do Americans feel about the gun control policy?',\n",
       " 'What are the best undiscovered places to visit in and around Dharamshala in December for a 5day trip of boys gang?',\n",
       " 'Where can I find my Quora credits?',\n",
       " 'When will I find love?',\n",
       " 'Is it healthy to eat egg whites every day?',\n",
       " 'What do men think about menstrual cycle?',\n",
       " 'What are the best facials to remove blackheads and pimples?',\n",
       " \"What's your favorite colour?\",\n",
       " 'Is Agni 5 better than Chinese Missile?',\n",
       " 'Can I use a PC3 RAM with existing PC3L RAM?',\n",
       " 'What are the top escort services of India?',\n",
       " 'How can I see the future?',\n",
       " 'Why did the fruit \"apple\" retain its name as \"apple\", since it originally referred to other fruits and other fruits became specifically named?',\n",
       " 'What is your review of Corona (beer)?',\n",
       " 'Can cold weather affect a menstrual cycle?',\n",
       " 'What are some interesting C projects for a beginner in programming?',\n",
       " 'How much is a 1934 twenty dollar bill worth today? What factors affect the value?',\n",
       " 'What is your dark side?',\n",
       " 'Is cold fusion a pseudoscience?',\n",
       " 'Which one of the following sentences is right grammatically?',\n",
       " 'I cleared the muApt 2016 test. How can I prepare for the remaining rounds?',\n",
       " \"Star Wars: The Force Awakens (2015 movie): In casting Rey, did they purposely choose an actor who looks just like Keira Knightley because she played Queen Amidala's double in the prequels?\",\n",
       " 'How would it cost to open futsal court in Nagpur?',\n",
       " \"Why does anantapur receives scanty rainfall among all the Telugu district's?\",\n",
       " 'How fake are people?',\n",
       " 'How can I reach Uber customer service? Do they have a phone number?',\n",
       " 'How do you transfer from a CSU to a UC?',\n",
       " 'How do I join the porn industry as a transgender male?',\n",
       " 'What do Obama do?',\n",
       " 'How do you potty train a English Bulldog/Pitbull mix puppy?',\n",
       " 'Does giving a blowjob help in reducing bad breath?',\n",
       " 'How do you record a FaceTime call on an iPhone?',\n",
       " 'What are the characteristics that are common to all living organisms without exception?',\n",
       " \"What reason did Colonel Parker give Elvis for why he shouldn't tour Europe? Real reason: Parker illegal alien & can't get passport. Elvis never knew.\",\n",
       " 'What should I say when a girl wants to break up with me?',\n",
       " 'Do you know any romantic anime movies (not series)?',\n",
       " 'How do cumulonimbus clouds form tornadoes?',\n",
       " 'Where can I find a call girl in Delhi?',\n",
       " 'Is cooking in a microwave good for the health?',\n",
       " 'Where can I find Trisha Yearwood recipes from Food Network?',\n",
       " 'Is World War 3 on the way with the US Elections?',\n",
       " 'What was your best feeling in the world?',\n",
       " 'What is the significance of the size of the address bus and the data bus in the processors? How is the type of the processors is defined like 8-bit, 16-bit processors, etc',\n",
       " 'Will drilling holes in my catalytic converter make it louder?',\n",
       " 'What are the tips and hacks for getting the classes that you want as a freshman at Park University?',\n",
       " 'Which apps are similar to Evernote?',\n",
       " 'Can you give me some advice on losing weight?',\n",
       " 'What should I answer to a question that how many computer are present in this lab?',\n",
       " 'What is the difference between level and edge triggered flip flops?',\n",
       " 'San Francisco: Who has the best taco salad?',\n",
       " 'How do I delete my Anime Amino account?',\n",
       " 'How is mobile working in underground parking in malls?',\n",
       " 'What citizenship does a person get if they are born in international waters?',\n",
       " 'Can I use TV characters in a fantasy book as scary characters? Is it violating copyright laws?',\n",
       " 'How do I study for IPCC group 2 in two months?',\n",
       " 'Explain the Necessity of filters?',\n",
       " 'Should Chile join the China-led Asian infrastructure investment bank (AIIB)?',\n",
       " 'What are best ways of digital marketing?',\n",
       " 'What was the view point of Indian capitalists towards Indian national movement?',\n",
       " 'In which and all the cases do e-Commerce companies refund the money?',\n",
       " 'What are the best unbiased News sources in the world?',\n",
       " 'Why are linear motors not used to actuate robots?',\n",
       " 'What are the meanings of Hindi and Urdu words Anumati and Ijazat respectively?',\n",
       " 'How do I reset Gmail account password?',\n",
       " 'Where can I catch a Tauros in Pokémon GO?',\n",
       " 'Why do people still use calculator when there is excel?',\n",
       " 'How does it feel to retake a class in college?',\n",
       " 'How widely accepted are credit cards at small businesses and restaurants in Liechtenstein?',\n",
       " 'Is driving with bad wheel bearing dangerous?',\n",
       " 'How can a person earn money by uploading his apps in Play Store for free?',\n",
       " 'How scared are you of spiders?',\n",
       " 'What do Hindus think of male circumcision?',\n",
       " 'Two plane mirror are kept at 45 angle . a coin is placed between them. how many images are formed?',\n",
       " 'How many database does Facebook have?',\n",
       " 'How do I recover deleted Facebook messages?',\n",
       " 'How could I be fluent in English?',\n",
       " 'What is Pinterest?',\n",
       " 'How do you perform a keyword search within YouTube comments?',\n",
       " 'What is the toughest major at UC Berkeley?',\n",
       " 'What website has the best recipes?',\n",
       " 'How do you know who is a beggar?',\n",
       " 'How competitive is the hiring process at Marin Software?',\n",
       " 'How do EBIT and operating income differ?',\n",
       " 'How many protons, electrons and neutrons does an atom of sodium have?',\n",
       " 'If I put 1 lakh in bank after 1 month how much I get?',\n",
       " 'What is the meaning of a boy giving a watch to a girl as a present?',\n",
       " 'What comes to your mind when you hear the word \"fitness\"?',\n",
       " 'What is the hardest thing(s) about raising children in Nigeria?',\n",
       " 'How do you answer a leading question?',\n",
       " \"Which fingers' fingerprints are being taken for the Aadhar registration process?\",\n",
       " 'What is the all-time record for most sins in a CinemaSins video?',\n",
       " 'What is the cost to create a beatswitch clone with IOS & Android app?',\n",
       " 'Does Chase Bank exchange foreign currency? If so, are their rates competetive?',\n",
       " 'What should I do to become an Indian foreign service officer?',\n",
       " 'How can I lose 15 kilos in one month?',\n",
       " 'Which is the best programming language for a beginner to learn?',\n",
       " 'What is the best c# book for a beginner?',\n",
       " \"Why doesn't Aamir Khan attend Bollywood award functions?\",\n",
       " 'Should I lock my knees when exercising ?',\n",
       " 'How do I get a job for mechanical engineers in Australia as I had 1 year of experience in India & applying for visa through subclass-489?',\n",
       " 'What are some cultural faux pas on wrongplanet.net?',\n",
       " 'How can you remove a virus on a phone?',\n",
       " 'Is hosting the database for a mobile app the same as for a website? What are backends like Parse and Firebase?',\n",
       " \"What is Amazon's corporate slogan? What does it mean?\",\n",
       " 'How is timber wood made?',\n",
       " 'What is the brain drain problem in Nepal?',\n",
       " 'Why is papaya good for diabetics? What other fruits are good for diabetics?',\n",
       " 'What are some differences between KVA and KVAR?',\n",
       " 'Who will win the war between India and Pakistan if we go all round indigenous?',\n",
       " 'What is the breakdown voltage of the earth?',\n",
       " \"How much did Apple's Lightning Connector for iOS devices cost to develop?\",\n",
       " 'I am 17-years-old and whenever I motivate myself to achieve my goals, I get excited for a moment, but over the time, I forget about my motivation and how important it is to achieve that goal. What should I do?',\n",
       " 'What is it like to work as a UX writer at Google?',\n",
       " 'Is GATE easier than CAT?',\n",
       " 'What are your deepest secrets that you would like to share before you die?',\n",
       " 'If I have to improve my English so what I have to do?',\n",
       " 'How do I live life with my ex-girlfriend in the same class?',\n",
       " \"Who are the most interesting players on Australia's 2014 World Cup team?\",\n",
       " 'Is vacuum energy infinite? If it is, how and why? Is it dark energy?',\n",
       " \"I'm 29 and terrified of aging. How can I deal with this obsession?\",\n",
       " 'How do I approach sponsors for college events?',\n",
       " 'What is demonetization in India?',\n",
       " 'What is a paw paw?',\n",
       " 'Will pokemon go release in india if yes when?',\n",
       " 'How can I play safe in capital market with initial investment of Rupees 30,000 ? In which stocks should I invest?',\n",
       " 'Anti puncture liquid for tubeless tyre?',\n",
       " 'What are some of the best websites to download movies?',\n",
       " 'What are some examples of controversial topics in special education?',\n",
       " 'Is drinking 4 liters of water each day unhealthy?',\n",
       " 'How can I beat procrastination?',\n",
       " 'What is the best way to programatically get the answers to a question on Quora?',\n",
       " 'How does one become rich real fast?',\n",
       " 'Is the rental of Rs 99 cut every month from your prepaid phone while on international roaming in the US?',\n",
       " 'Who are some lesser known important historical figures of Angola and what should people know about them?',\n",
       " 'How will the ban on Rs 500 and 1000 notes impact the Indian economy?',\n",
       " 'How can I create a 360° content?',\n",
       " 'What was the religion of jawaharlal nehru?',\n",
       " 'Iot project final year ideas suggestion?',\n",
       " 'How do I build a website?',\n",
       " 'Why do people ask questions here in Quora instead of just googling?',\n",
       " 'What are the most interesting and mindblowing facts you know?',\n",
       " 'What is with Samsung?',\n",
       " 'How can i make a good Presentation ?',\n",
       " 'Was Obama right to abstain from the UN vote on settlements?',\n",
       " 'Which types of hair systems are more versatile, hair systems that go on a shaved head or hair integration systems?',\n",
       " 'Why is that actors give a suprising speeches in award shows, when they are already informed they will get an award?',\n",
       " 'What can I do when the oil life in my car move from 0% to -17?',\n",
       " 'If universe expands and vacuum energy is created with it (with no limit),is there infinite potential energy/infinite vacuum energy that can be created?',\n",
       " 'How is Bloom Energy done?',\n",
       " \"What's the difference between voltage, current, and watts?\",\n",
       " '• Do Indians lack civic sense? And how?',\n",
       " 'What universities does Haynes International recruit new grads from? What majors are they looking for?',\n",
       " \"Why are the Rebel Alliance's capital ships so completely worthless versus the Star Destroyers in Rogue One?\",\n",
       " 'How do I make cream cheese?',\n",
       " 'What is the best place for an astrophysicist?',\n",
       " 'How did rice become a cash crop in Louisiana? What is the economic impact of this industry in Louisiana?',\n",
       " \"Why does everyone only talk about what's bad about the world?\",\n",
       " 'Why does a zener diode burn quickly?',\n",
       " 'Why does Chinese win so many Olympic medals while Indians win few medals?',\n",
       " 'How can I prevent mosquitos from biting me?',\n",
       " 'Why are there so many empty seats at the Rio Olympics?',\n",
       " 'How to get rid of erectile dysfunction?',\n",
       " \"What are some good songs to listen to when you're angry?\",\n",
       " 'Why do a lot of people dislike the word \"moist\"?',\n",
       " 'What are the best weights for weight loss?',\n",
       " 'It is possible to put fuel injector in petrol engine?',\n",
       " 'Where can I get best fire protection services in Sydney?',\n",
       " 'Is it possible to record audio to a DSLR and external recorder at the same time?',\n",
       " \"Why should/shouldn't Puerto Rico become a state?\",\n",
       " 'Do universities in Australia send a rejection mail?',\n",
       " 'What are some solved problems in mathematics?',\n",
       " 'Which OS is better, Windows, Mac OS X, or Linux?',\n",
       " 'How does someone knows they have social anxiety?',\n",
       " 'How will human beings on Earth come to an end?',\n",
       " 'How could I become an actor?',\n",
       " \"What is grammatically correct: 'much efforts' or 'many efforts'?\",\n",
       " 'What have you learned during your internship?',\n",
       " 'What should I do for my career growth?',\n",
       " 'What does 4x4 or 4x2 mean in a description of a car?',\n",
       " \"Why can't we crop (or have) any picture in shapes like circle instead of rectangular frame?\",\n",
       " 'What does the order of who views your story on Instagram mean? Why is one person always on top no matter when they view it?',\n",
       " 'Do those fire cupping therapies really work?',\n",
       " 'Why is badminton considered \"gay and girly\" by some people?',\n",
       " 'I am 21 years old and suffering from back pain and ankle pain. what can I do to improve my condition and live a healthy life?',\n",
       " 'Are there Asian Jews?',\n",
       " \"How safe is Papua New Guinea, and how does it's crime rate compare to Algeria's?\",\n",
       " 'What is the best keylogger to use?',\n",
       " 'How cold can the Gobi Desert get, and how do its average temperatures compare to the ones in the Great Victoria Desert?',\n",
       " 'Do you consider Edward Snowden a hero for freedom?',\n",
       " 'Which is the best book to learn robotics from a beginner level (step by step)?',\n",
       " 'What club should I start at my high school?',\n",
       " 'How do you activate a Verizon phone by calling?',\n",
       " 'Is this move of banning 500 & 1000 Rupee notes right?',\n",
       " \"What's the most cringe-worthy, embarrassing thing that's ever happened to you?\",\n",
       " 'Is Christopher Craig still alive? What is he known for?',\n",
       " 'Have you ever cheated on your employer? How?',\n",
       " 'How can I become rich?',\n",
       " 'Where is the proof of alien life?',\n",
       " 'How should I prepare for CA final law?',\n",
       " 'What will be the impact in the Indian economy of sudden 500 & 1000 rupee notes withdrawal of by the government?',\n",
       " 'What is the best way to commute from Sacramento to the San Francisco airport?',\n",
       " 'What is the way to avoid distraction during IAS preparation?',\n",
       " 'What is the shortcut key of subscript and superscript in Excel?',\n",
       " 'What are some suitable English names for a male if my name is \"Zong-yue\"?',\n",
       " 'How different do Mongolians look from ethnic Chinese and Japanese?',\n",
       " 'What should I say when a girl asks why I love her?',\n",
       " 'What is the average weight of a 14 year old?',\n",
       " 'What is the font used in the desktop version of Instagram for comments?',\n",
       " 'How do you control your anger?',\n",
       " 'What are the best tech companies to work for in India?',\n",
       " 'Which university in Ukraine is best for medicine and why?',\n",
       " 'What is a possible reason for the mild, uncontrollable trembling of my fingers?',\n",
       " 'What is the difference between koi and goldfish?',\n",
       " 'Who invented democracy, the USA or the Greeks?',\n",
       " 'German rosary beads? Find the value',\n",
       " 'What does it feel like to have a one night stand?',\n",
       " 'What are n-paraffins, and is their importance in chemistry?',\n",
       " 'What do the majority of Serbian female surnames end with?',\n",
       " 'How do I see who viewed my Instagram video?',\n",
       " 'What do Greater Swiss Mountain dogs look like?',\n",
       " 'Does professors mind if a student go to office hours everyday?',\n",
       " 'What should you never eat for breakfast?',\n",
       " 'Where is the origin of the famous sweet \"Rasgulla\"?',\n",
       " 'What are the signs that a boy likes you?',\n",
       " 'Where can I find a free ready-made Android for my new application?',\n",
       " 'What has been your best experience of meeting a celebrity?',\n",
       " 'How do I edit a question I asked on Quora?',\n",
       " 'I have to complete a 1600 meters run in 6 min. I have only 9 days left. What are any running tips?',\n",
       " 'What new countries were created after World War I?',\n",
       " 'How do biotic and abiotic factors compare and contrast?',\n",
       " 'How is cuba?',\n",
       " 'Would a Donald Trump presidency really be so bad?',\n",
       " 'What is Search Engine Value?',\n",
       " 'Which is the best hotel job vacancy website?',\n",
       " 'What would happen if you left a gas (or electric) stove unattended for several hours?',\n",
       " 'Is Sociology a good optional subject for UPSC mains? Why?',\n",
       " 'Can I login to my whatsapp account?',\n",
       " 'What could be the effect of GST bill on Indian economy?',\n",
       " 'If you could go back in time and change one thing, what would it be and why?',\n",
       " 'International Institute of Information Technology, Hyderabad (IIIT-H): What are the best life lessons that you learned at school/ college?',\n",
       " 'How much is a Wm Rogers spoon worth?',\n",
       " 'What is SAP?',\n",
       " 'What are some of the best ways to memorize things faster?',\n",
       " 'Are there projects or internships in chemical engineering for first-year students like Google Summer of Code for computer science students?',\n",
       " 'What do you people around the world think about Serbia and people who live in?',\n",
       " \"What's the best on-line calender/scheduling/booking system? Something that allows me to show my availability & customers can 'request' to meet me. When I 'accept' their request, the appointment pops into our calendars & reminders are automated.\",\n",
       " 'What dog food is the safest?',\n",
       " 'How does a cellular phone battery meter work?',\n",
       " \"What is mechatronics? What is it's scope? What are the top government colleges or any other colleges that have mechatronics? Please help\",\n",
       " 'Why is SEO important for a local business?',\n",
       " 'How can I get rid of negativity?',\n",
       " 'How can I download Excel 2010 in Windows 7?',\n",
       " 'How can I apply for CPT after completing class 12?',\n",
       " 'Leaving a company for CAT?',\n",
       " \"What percentage of the world's money is printed in cash bills/coins?\",\n",
       " 'Why are some people so interested in the lives of celebrities?',\n",
       " 'How far below the minimum powder charge is dangerous when reloading a rifle round?',\n",
       " 'Why is harem illegal in western civilization if most of woman in it want their husbands to be able to earn good fortune?',\n",
       " 'If I have 60 points in SkillSelect for Australian Permanent residency, Can i expect an invite for EOI in 5–6 months? I have 8 bands overall in ielts.',\n",
       " 'Why should I learn to play chess?',\n",
       " 'How is the ionization energy of hydrogen atom determined?',\n",
       " 'What is the tallest building in Bulgaria?',\n",
       " 'What are the best mileage as well as stylish bikes to buy?',\n",
       " 'What are some overrated firearms, and why?',\n",
       " 'What are your reviews about spending 3600 crores on Shivaji statue?',\n",
       " 'How can I master coding?',\n",
       " 'How long do spices last before going bad?',\n",
       " 'Is it normal to get pimples under your armpits?',\n",
       " 'Why should one be proud to be an Indian?',\n",
       " \"What's it like to be addicted to cocaine or crack cocaine?\",\n",
       " 'Did dunno create the universe?',\n",
       " 'How can I remember foreign words?',\n",
       " 'Why does YouTube keep crashing while using Google Chrome?',\n",
       " 'What has been the effect of demonetisation on your personal life?',\n",
       " 'Who is Chris Jericho Liontamer?',\n",
       " 'How can one become a politician in india?',\n",
       " 'What is the best way to retain what you learn?',\n",
       " 'Which is a good solar panel installation provider near Nipomo, California CA?',\n",
       " 'Which is the best and most popular tyre sealant in the worlds?',\n",
       " 'I want to appear for iit. So I am thinking of taking leave. So does attendance really matter in class 12?',\n",
       " 'What is the difference between an Amber Alert and a Silver Alert?',\n",
       " 'What do you think of my game?',\n",
       " 'How can we start a business with $100?',\n",
       " 'Can we use laser as street light?',\n",
       " 'How do I recover my Google account?',\n",
       " 'How do you get rid of a double chin?',\n",
       " 'From where can I buy cyanide pills in India?',\n",
       " 'What does the ¿ symbol mean?',\n",
       " 'How can I be a open minded person?',\n",
       " 'How can I control myself and behaviour?',\n",
       " 'How many keywords are there in Self programming language in the latest version?',\n",
       " 'Is there a way to witness the Big Bang?',\n",
       " 'How does diet affect hair health?',\n",
       " 'How do I stop caring about what people think about me?',\n",
       " \"What's the fastest way to get a driver's license in Germany?\",\n",
       " 'What should I do to earn money online?',\n",
       " 'Is a 24 year old guy still considered young or an adult?',\n",
       " 'Which is more important, nature or nurture?',\n",
       " 'What are the best Joshua Tree National Park hikes?',\n",
       " 'Why is Spontaneous Human Combustion considered to be a supernatural phenomenon rather than a biological phenomenon?',\n",
       " 'Why did black people call themselves nigga?',\n",
       " 'Spotify: When will Spotify be available in India? What are the reasons for this unavailability?',\n",
       " 'What would the world be like today if the Black Plague had never happened?',\n",
       " 'How has Quora impacted your life?',\n",
       " 'How does it feel to have an Indian for a boyfriend?',\n",
       " 'What is the salary of indian president?',\n",
       " 'Which is the most important thing in life?',\n",
       " 'Who was the first prime minister of India who died abroad during an official tour?',\n",
       " 'What, if anything, is too serious to be joked about?',\n",
       " 'How can I stay erect during sex?',\n",
       " 'Why should we go to school?',\n",
       " 'What is the van der Waals equation?',\n",
       " \"On the surface of the earth, the acceleration of gravity is [math]9.81 m/{s^2}[/math]. If you are 2 earth radius away from earth's center, wouldn't the acceleration of gravity be half?\",\n",
       " 'What is a way to delete a lot of photos at once from Instagram?',\n",
       " 'Why is my insurance premium on one car double the premium on my other car when they are of similar types and values?',\n",
       " 'How do I save a PowerPoint presentation with the notes page as a Word document or as a PDF file?',\n",
       " 'What are the biggest scam in India?',\n",
       " 'How do I say \"形から入る\" in English?',\n",
       " 'How can I improve fluency in English?',\n",
       " \"How do I see who's viewed my Instagram profile?\",\n",
       " 'What are some of the important essay and letter topics that may probably come for 10th grade English language ICSE emaxination held on 29th of Feb?',\n",
       " 'How can I deactivate or delete my Gmail account?',\n",
       " 'What happened to your school bully?',\n",
       " 'Do Ray-Bans come with a case?',\n",
       " 'What are some links for the Bindass dubbed Hollywood movies?',\n",
       " 'Did the British come to India to rule or for some other purposes?',\n",
       " 'How many keywords are there in SNOBOL Programming Language in the latest version?',\n",
       " 'What are differential forms?',\n",
       " 'What is religion and why does it have to be born?',\n",
       " 'When and where was the song Londa Badnam Hua Nasiban Tere Liye originated?',\n",
       " 'If I add an outlook account to my iPhone will it automatically show up on my iPad?',\n",
       " 'What are the languages fluently spoke in Norway? Why?',\n",
       " 'Who are some of the best comedians on Quora?',\n",
       " 'What is the admission process to university?',\n",
       " 'What happens in Princess Resurrection episode 1?',\n",
       " 'How can love be dangerous sometimes?',\n",
       " 'What is the best way to get certified in Salesforce?',\n",
       " 'Why do people lose interest in Quora?',\n",
       " 'Is it possible to make money as a user on Quora?',\n",
       " 'How can I get seed funding for my e-commerce business plan when all I can present to seed investors is a rough plan/idea?',\n",
       " 'Are there any practical benefits to the discovery of gravitational waves?',\n",
       " 'How many calories does 100 jumping jacks burn?',\n",
       " 'How can I increase D1/D2 dopamine receptor density?',\n",
       " 'Can we terraform Mars?',\n",
       " 'What is an intuitive explanation of the iron-carbon phase diagram?',\n",
       " 'Is it possible to withdraw from college for a semester, and transfer to another college the semester after?',\n",
       " 'What are the perks of being a lawyer?',\n",
       " 'What is a surge with uber?',\n",
       " \"What is the origin of Murphy's law?\",\n",
       " 'I am a 9th standard student. I wish to go for chartered accountancy. Is it essential for me to choose commerce maths in my 11th and 12th classes?',\n",
       " 'How can I get a rank in CA CPT?',\n",
       " 'How can I cancel a ticket on Book My Show?',\n",
       " 'How is Nirma BTech computer placement?',\n",
       " 'What are the most followed topics on Quora in 2016?',\n",
       " 'Why do I not understand myself?',\n",
       " \"In Game of Thrones show, why hasn't Victarion showed up?\",\n",
       " 'What is the most beautiful volley goal in football history?',\n",
       " 'What are some examples of Giffen goods and inferior goods?',\n",
       " 'How can I commit suicide without any pain?',\n",
       " 'How can I book cheap domestic flights in India?',\n",
       " 'How can I see their last seen in spite of blocking them in watsapp?',\n",
       " 'What would you do if you found out one of your parents has been cheating? What should you do?',\n",
       " 'Adieu mails?',\n",
       " 'What is the issue with Islamic states?',\n",
       " \"In what ratio does a child inherit their father's and mother's genetic traits?\",\n",
       " 'How did English become the official language of so many countries?',\n",
       " 'Can you be prosecuted for a crime committed in another country?',\n",
       " 'What is a business organization?',\n",
       " 'How to gain weight ?',\n",
       " 'Is there a way to view your Spotify play history?',\n",
       " 'What is one characteristic that you believe every leader should possess?',\n",
       " 'Why are Chennai/Madras streets so dirty inspite of having dustbins to throw litter?',\n",
       " 'Why is there so much hate between Hindus and Muslims in India?',\n",
       " 'When can a player place a house in monopoly?',\n",
       " 'Who will have a greater story to rell their grandchildren one who travels a lot or one who reads a lot?',\n",
       " 'How is Sheridan?',\n",
       " 'What are the 10 must see action movies?',\n",
       " 'How much money do you need to consider yourself rich?',\n",
       " 'Should we abolish the Electoral College? Why or why not?',\n",
       " 'Difference between word along with and alongside?',\n",
       " 'What is the use of a pumice stone and should it be replaced?',\n",
       " 'Which is the most emotional short story?',\n",
       " 'Why did RBI issue new 2000 rupees note instead of new 1000 rupees note?',\n",
       " \"Is there any way to creep somebody's pics on Instagram that account is private?\",\n",
       " 'How do I transfer downloaded apps from my laptop to my flash drive?',\n",
       " 'What was the first word?',\n",
       " 'How do I find who just called from a private number?',\n",
       " 'What is the way to get discount on the Apple iPhone 7?',\n",
       " 'Why does the moon glow?',\n",
       " 'How can I learn machine learning better?',\n",
       " 'How do I start a diary entry?',\n",
       " 'Are too many people training to become data scientists?',\n",
       " 'What is an SPI firewall?',\n",
       " 'Why does Julian Assange have white hair?',\n",
       " 'What is the best Android phone in market under the budget of 20k in India?',\n",
       " 'What are the disadvantages of desiccated wounds?',\n",
       " 'How does physical stress like doing exercise or hard labor activities relieve mental stress?',\n",
       " 'What are autochthonous expedient?',\n",
       " ...]"
      ]
     },
     "execution_count": 20,
     "metadata": {},
     "output_type": "execute_result"
    }
   ],
   "source": [
    "train_data['topic']"
   ]
  },
  {
   "cell_type": "code",
   "execution_count": 2,
   "metadata": {},
   "outputs": [
    {
     "ename": "NameError",
     "evalue": "name 'build_dataset' is not defined",
     "output_type": "error",
     "traceback": [
      "\u001b[0;31m---------------------------------------------------------------------------\u001b[0m",
      "\u001b[0;31mNameError\u001b[0m                                 Traceback (most recent call last)",
      "Cell \u001b[0;32mIn[2], line 1\u001b[0m\n\u001b[0;32m----> 1\u001b[0m case_hold \u001b[38;5;241m=\u001b[39m \u001b[43mbuild_dataset\u001b[49m([\u001b[38;5;124m'\u001b[39m\u001b[38;5;124mcase_hold\u001b[39m\u001b[38;5;124m'\u001b[39m], \u001b[38;5;124m'\u001b[39m\u001b[38;5;124m./dataset\u001b[39m\u001b[38;5;124m'\u001b[39m)[\u001b[38;5;241m0\u001b[39m]\n",
      "\u001b[0;31mNameError\u001b[0m: name 'build_dataset' is not defined"
     ]
    }
   ],
   "source": [
    "case_hold = build_dataset(['case_hold'], './dataset')[0]"
   ]
  },
  {
   "cell_type": "code",
   "execution_count": 15,
   "metadata": {},
   "outputs": [
    {
     "data": {
      "text/plain": [
       "DatasetDict({\n",
       "    train: Dataset({\n",
       "        features: ['context', 'endings', 'label'],\n",
       "        num_rows: 45000\n",
       "    })\n",
       "    test: Dataset({\n",
       "        features: ['context', 'endings', 'label'],\n",
       "        num_rows: 3600\n",
       "    })\n",
       "    validation: Dataset({\n",
       "        features: ['context', 'endings', 'label'],\n",
       "        num_rows: 3900\n",
       "    })\n",
       "})"
      ]
     },
     "execution_count": 15,
     "metadata": {},
     "output_type": "execute_result"
    }
   ],
   "source": [
    "case_hold"
   ]
  },
  {
   "cell_type": "code",
   "execution_count": 3,
   "metadata": {},
   "outputs": [
    {
     "data": {
      "text/plain": [
       "'holding that possession of a pipe bomb is a crime of violence for purposes of 18 usc  3142f1'"
      ]
     },
     "execution_count": 3,
     "metadata": {},
     "output_type": "execute_result"
    }
   ],
   "source": [
    "case_hold['train']['endings'][0][case_hold['train']['label'][0]]"
   ]
  },
  {
   "cell_type": "code",
   "execution_count": 4,
   "metadata": {},
   "outputs": [],
   "source": [
    "import string\n",
    "\n",
    "def fill(context, ending):\n",
    "    masked = '(<HOLDING>)'\n",
    "    context.replace(masked, ending)\n",
    "    return context\n"
   ]
  },
  {
   "cell_type": "code",
   "execution_count": 19,
   "metadata": {},
   "outputs": [
    {
     "data": {
      "text/plain": [
       "\"Drapeau’s cohorts, the cohort would be a “victim” of making the bomb. Further, firebombs are inherently dangerous. There is no peaceful purpose for making a bomb. Felony offenses that involve explosives qualify as “violent crimes” for purposes of enhancing the sentences of career offenders. See 18 U.S.C. § 924(e)(2)(B)(ii) (defining a “violent felony” as: “any crime punishable by imprisonment for a term exceeding one year ... that ... involves use of explosives”). Courts have found possession of a'bomb to be a crime of violence based on the lack of a nonviolent purpose for a bomb and the fact that, by its very nature, there is a substantial risk that the bomb would be used against the person or property of another. See United States v. Newman, 125 F.3d 863 (10th Cir.1997) (unpublished) holding that possession of a pipe bomb is a crime of violence for purposes of 18 usc  3142f1; United States v. Dodge, 846 F.Supp. 181,\""
      ]
     },
     "execution_count": 19,
     "metadata": {},
     "output_type": "execute_result"
    }
   ],
   "source": [
    "masked = case_hold['train']['endings'][0][case_hold['train']['label'][0]]\n",
    "case_hold['train']['context'][0].replace('(<HOLDING>)', masked)"
   ]
  },
  {
   "cell_type": "code",
   "execution_count": 23,
   "metadata": {},
   "outputs": [],
   "source": [
    "def answer(data_point):\n",
    "    return data_point['context'], data_point['endings'][data_point['label']]\n",
    "\n",
    "def fill_masked(data_point):\n",
    "    text, masked = answer(data_point)\n",
    "    return {\n",
    "        \"text\" : text.replace('(<HOLDING>)', masked)\n",
    "    }"
   ]
  },
  {
   "cell_type": "code",
   "execution_count": 38,
   "metadata": {},
   "outputs": [
    {
     "data": {
      "text/plain": [
       "DatasetDict({\n",
       "    train: Dataset({\n",
       "        features: ['context', 'endings', 'label'],\n",
       "        num_rows: 45000\n",
       "    })\n",
       "    test: Dataset({\n",
       "        features: ['context', 'endings', 'label'],\n",
       "        num_rows: 3600\n",
       "    })\n",
       "    validation: Dataset({\n",
       "        features: ['context', 'endings', 'label'],\n",
       "        num_rows: 3900\n",
       "    })\n",
       "})"
      ]
     },
     "execution_count": 38,
     "metadata": {},
     "output_type": "execute_result"
    }
   ],
   "source": [
    "case_hold"
   ]
  },
  {
   "cell_type": "code",
   "execution_count": 39,
   "metadata": {},
   "outputs": [],
   "source": [
    "from dataset import *"
   ]
  },
  {
   "cell_type": "code",
   "execution_count": 36,
   "metadata": {},
   "outputs": [],
   "source": [
    "import datasets\n",
    "datasetdict = datasets.DatasetDict(\n",
    "    {\n",
    "        'test': ds\n",
    "    }\n",
    ")"
   ]
  },
  {
   "cell_type": "code",
   "execution_count": 46,
   "metadata": {},
   "outputs": [
    {
     "name": "stderr",
     "output_type": "stream",
     "text": [
      "  0%|          | 0/3 [00:00<?, ?it/s]Loading cached processed dataset at /home/laal_intern003/.cache/huggingface/datasets/lex_glue/case_hold/1.0.0/8a66420941bf6e77a7ddd4da4d3bfb7ba88ef48c1d55302a568ac650a095ca3a/cache-9e1fba865d7d682f.arrow\n",
      "Loading cached processed dataset at /home/laal_intern003/.cache/huggingface/datasets/lex_glue/case_hold/1.0.0/8a66420941bf6e77a7ddd4da4d3bfb7ba88ef48c1d55302a568ac650a095ca3a/cache-ae14c54dfb3f2eda.arrow\n",
      "Loading cached processed dataset at /home/laal_intern003/.cache/huggingface/datasets/lex_glue/case_hold/1.0.0/8a66420941bf6e77a7ddd4da4d3bfb7ba88ef48c1d55302a568ac650a095ca3a/cache-12846bf084281f0b.arrow\n",
      "100%|██████████| 3/3 [00:00<00:00, 143.72it/s]\n"
     ]
    }
   ],
   "source": [
    "def _answer(data_point):\n",
    "    return data_point['context'], data_point['endings'][data_point['label']]\n",
    "\n",
    "def _fill_masked(data_point):\n",
    "    text, masked = _answer(data_point)\n",
    "    return {\n",
    "        \"text\" : text.replace('(<HOLDING>)', masked)\n",
    "    }\n",
    "\n",
    "def rebuild_dataset(dataset):\n",
    "    datasetdict = {}\n",
    "    for split in tqdm(['train', 'validation', 'test']):\n",
    "        datasetdict[split] = dataset[split].map(_fill_masked).select_columns(['text'])\n",
    "    return datasets.DatasetDict(datasetdict)\n",
    "    \n",
    "d = rebuild_dataset(case_hold)"
   ]
  },
  {
   "cell_type": "code",
   "execution_count": 44,
   "metadata": {},
   "outputs": [
    {
     "data": {
      "text/plain": [
       "DatasetDict({\n",
       "    train: Dataset({\n",
       "        features: ['context', 'endings', 'label', 'text'],\n",
       "        num_rows: 45000\n",
       "    })\n",
       "    validation: Dataset({\n",
       "        features: ['context', 'endings', 'label', 'text'],\n",
       "        num_rows: 3900\n",
       "    })\n",
       "    test: Dataset({\n",
       "        features: ['context', 'endings', 'label', 'text'],\n",
       "        num_rows: 3600\n",
       "    })\n",
       "})"
      ]
     },
     "execution_count": 44,
     "metadata": {},
     "output_type": "execute_result"
    }
   ],
   "source": [
    "d"
   ]
  },
  {
   "cell_type": "code",
   "execution_count": 29,
   "metadata": {},
   "outputs": [
    {
     "name": "stderr",
     "output_type": "stream",
     "text": [
      "Loading cached processed dataset at /home/laal_intern003/.cache/huggingface/datasets/lex_glue/case_hold/1.0.0/8a66420941bf6e77a7ddd4da4d3bfb7ba88ef48c1d55302a568ac650a095ca3a/cache-49f95a6fe849df2c.arrow\n"
     ]
    }
   ],
   "source": [
    "ds = case_hold['test'].map(fill_masked)"
   ]
  },
  {
   "cell_type": "code",
   "execution_count": 31,
   "metadata": {},
   "outputs": [
    {
     "data": {
      "text/plain": [
       "'v. Power Auth. of the State of New York, 81 N.Y.2d 649, 652, 602 N.Y.S.2d 588, 621 N.E.2d 1195, 1196 (N.Y.1993) (same). These cases teach that fair market value is not to be determined in a rarefied realm of abstract calculation, but from the perspective of a hypothetical buyer in the real world — even if her perception of value is based partially on misinformation or (arguably) exaggerated fears about uncertain future events. Other courts, in the same or similar circumstances, have held that the anticipation of increased interference or potential hazards on the land remaining after a taking, which one court has labeled “stigma damages,” can be considered in assessing severance damages. See, e.g., Vector Pipeline, L.P., v. 68.55 Acres of Land, 157 F.Supp.2d 949, 957 (N.D.Ill.2001) holding that stigma damages were properly included in calculation of severance damages where proximity of gas pipeline could trigger fears about possible mishaps; United States v. 14.38 Acres of Land, 80 F.3d'"
      ]
     },
     "execution_count": 31,
     "metadata": {},
     "output_type": "execute_result"
    }
   ],
   "source": [
    "ds['text'][0]"
   ]
  },
  {
   "cell_type": "code",
   "execution_count": 20,
   "metadata": {},
   "outputs": [
    {
     "data": {
      "text/plain": [
       "\"Drapeau’s cohorts, the cohort would be a “victim” of making the bomb. Further, firebombs are inherently dangerous. There is no peaceful purpose for making a bomb. Felony offenses that involve explosives qualify as “violent crimes” for purposes of enhancing the sentences of career offenders. See 18 U.S.C. § 924(e)(2)(B)(ii) (defining a “violent felony” as: “any crime punishable by imprisonment for a term exceeding one year ... that ... involves use of explosives”). Courts have found possession of a'bomb to be a crime of violence based on the lack of a nonviolent purpose for a bomb and the fact that, by its very nature, there is a substantial risk that the bomb would be used against the person or property of another. See United States v. Newman, 125 F.3d 863 (10th Cir.1997) (unpublished) (<HOLDING>); United States v. Dodge, 846 F.Supp. 181,\""
      ]
     },
     "execution_count": 20,
     "metadata": {},
     "output_type": "execute_result"
    }
   ],
   "source": [
    "case_hold['train']['context'][0]"
   ]
  },
  {
   "cell_type": "code",
   "execution_count": 7,
   "metadata": {},
   "outputs": [
    {
     "data": {
      "text/plain": [
       "True"
      ]
     },
     "execution_count": 7,
     "metadata": {},
     "output_type": "execute_result"
    }
   ],
   "source": [
    "case_hold['train']['context'][0] == fill(case_hold['train']['context'][0], case_hold['train']['endings'][0][case_hold['train']['label'][0]])"
   ]
  },
  {
   "cell_type": "code",
   "execution_count": 24,
   "metadata": {},
   "outputs": [],
   "source": [
    "for i in range(10):\n",
    "    answer = case_hold['train']['endings'][i][case_hold['train']['label'][i]]\n",
    "    case_hold['train']['context'][i] = fill(case_hold['train']['context'][i], answer)"
   ]
  },
  {
   "cell_type": "code",
   "execution_count": 25,
   "metadata": {},
   "outputs": [
    {
     "data": {
      "text/plain": [
       "\"Drapeau’s cohorts, the cohort would be a “victim” of making the bomb. Further, firebombs are inherently dangerous. There is no peaceful purpose for making a bomb. Felony offenses that involve explosives qualify as “violent crimes” for purposes of enhancing the sentences of career offenders. See 18 U.S.C. § 924(e)(2)(B)(ii) (defining a “violent felony” as: “any crime punishable by imprisonment for a term exceeding one year ... that ... involves use of explosives”). Courts have found possession of a'bomb to be a crime of violence based on the lack of a nonviolent purpose for a bomb and the fact that, by its very nature, there is a substantial risk that the bomb would be used against the person or property of another. See United States v. Newman, 125 F.3d 863 (10th Cir.1997) (unpublished) (<HOLDING>); United States v. Dodge, 846 F.Supp. 181,\""
      ]
     },
     "execution_count": 25,
     "metadata": {},
     "output_type": "execute_result"
    }
   ],
   "source": [
    "case_hold['train']['context'][0]"
   ]
  },
  {
   "cell_type": "code",
   "execution_count": 6,
   "metadata": {},
   "outputs": [
    {
     "name": "stderr",
     "output_type": "stream",
     "text": [
      "  0%|          | 0/1 [00:00<?, ?it/s]Found cached dataset lex_glue (/home/laal_intern003/.cache/huggingface/datasets/lex_glue/case_hold/1.0.0/8a66420941bf6e77a7ddd4da4d3bfb7ba88ef48c1d55302a568ac650a095ca3a)\n",
      "100%|██████████| 3/3 [00:00<00:00, 320.99it/s]\n",
      "100%|██████████| 1/1 [00:03<00:00,  3.47s/it]"
     ]
    },
    {
     "name": "stdout",
     "output_type": "stream",
     "text": [
      "Datasets are succesfully loaded\n"
     ]
    },
    {
     "name": "stderr",
     "output_type": "stream",
     "text": [
      "\n"
     ]
    }
   ],
   "source": [
    "dataset = build_dataset(['case_hold'], './dataset')[0]"
   ]
  },
  {
   "cell_type": "code",
   "execution_count": 13,
   "metadata": {},
   "outputs": [
    {
     "data": {
      "text/plain": [
       "'v. Power Auth. of the State of New York, 81 N.Y.2d 649, 652, 602 N.Y.S.2d 588, 621 N.E.2d 1195, 1196 (N.Y.1993) (same). These cases teach that fair market value is not to be determined in a rarefied realm of abstract calculation, but from the perspective of a hypothetical buyer in the real world — even if her perception of value is based partially on misinformation or (arguably) exaggerated fears about uncertain future events. Other courts, in the same or similar circumstances, have held that the anticipation of increased interference or potential hazards on the land remaining after a taking, which one court has labeled “stigma damages,” can be considered in assessing severance damages. See, e.g., Vector Pipeline, L.P., v. 68.55 Acres of Land, 157 F.Supp.2d 949, 957 (N.D.Ill.2001) (<HOLDING>); United States v. 14.38 Acres of Land, 80 F.3d'"
      ]
     },
     "execution_count": 13,
     "metadata": {},
     "output_type": "execute_result"
    }
   ],
   "source": [
    "dataset['test']['context'][0].find('(<HOLDING>)')"
   ]
  },
  {
   "cell_type": "code",
   "execution_count": 1,
   "metadata": {},
   "outputs": [
    {
     "ename": "NameError",
     "evalue": "name 'dataset' is not defined",
     "output_type": "error",
     "traceback": [
      "\u001b[0;31m---------------------------------------------------------------------------\u001b[0m",
      "\u001b[0;31mNameError\u001b[0m                                 Traceback (most recent call last)",
      "Cell \u001b[0;32mIn[1], line 26\u001b[0m\n\u001b[1;32m     22\u001b[0m     \u001b[38;5;28minput\u001b[39m \u001b[38;5;241m=\u001b[39m prompt \u001b[38;5;241m+\u001b[39m \u001b[38;5;124mf\u001b[39m\u001b[38;5;124m'\u001b[39m\u001b[38;5;130;01m\\n\u001b[39;00m\u001b[38;5;124mExcerpt: \u001b[39m\u001b[38;5;132;01m{\u001b[39;00mdata_point\u001b[38;5;132;01m}\u001b[39;00m\u001b[38;5;124m'\u001b[39m\n\u001b[1;32m     24\u001b[0m     \u001b[38;5;28;01mreturn\u001b[39;00m \u001b[38;5;28minput\u001b[39m\n\u001b[0;32m---> 26\u001b[0m \u001b[38;5;28mprint\u001b[39m(prompt_engineering(\u001b[43mdataset\u001b[49m[\u001b[38;5;124m'\u001b[39m\u001b[38;5;124mtest\u001b[39m\u001b[38;5;124m'\u001b[39m][\u001b[38;5;124m'\u001b[39m\u001b[38;5;124mcontext\u001b[39m\u001b[38;5;124m'\u001b[39m][\u001b[38;5;241m0\u001b[39m]))\n",
      "\u001b[0;31mNameError\u001b[0m: name 'dataset' is not defined"
     ]
    }
   ],
   "source": [
    "import random\n",
    "def prompt_engineering(data_point):\n",
    "\n",
    "    random.seed(7)\n",
    "    prompt_cands = [\n",
    "    \"Please select the most suitable summary of the legal ruling that accompanies the relevant referenced decisions for the specific case. The following excerpt is from the court's decision.\",\n",
    "    \"Kindly choose the concise summary of the legal ruling that accompanies the relevant referenced decisions applicable to the given case. Provided below is an excerpt from the court decision.\",\n",
    "    \"Please decide on the most appropriate summary of the legal ruling that accompanies the relevant referenced decisions, which are relevant to the given case. Here is an excerpt from the court decision for your consideration.\",\n",
    "    \"Here is an excerpt from the court decision for the case. Please choose the most appropriate short summary of the legal ruling that accompanies the referenced decisions relevant to the case.\",\n",
    "    \"Consider the following excerpt from the court decision for the case. Your task is to select the most appropriate short summary of the legal ruling that accompanies the referenced decisions relevant to the case.\",\n",
    "    \"Given the excerpt from the court decision for the case, your task is to choose the most appropriate short summary of the legal ruling that accompanies the referenced decisions relevant to the case.\",\n",
    "    \"Please refer to the following excerpt from the court decision for the case. Your task is to choose the most appropriate short summary of the legal ruling that accompanies the referenced decisions relevant to the case.\",\n",
    "    \"Your task is to choose the most appropriate short summary of the legal ruling that accompanies the referenced decisions relevant to the case, using the excerpt from the court decision provided below.\",\n",
    "    \"Please review the following excerpt from the court decision for the case. Your task is to choose the most appropriate short summary of the legal ruling that accompanies the referenced decisions relevant to the case.\",\n",
    "    \"Here is the excerpt from the court decision for the case. Your task is to choose the most appropriate short summary of the legal ruling that accompanies the referenced decisions relevant to the case.\"\n",
    "    ]\n",
    "\n",
    "    \n",
    "    _slice = data_point.find('(<HOLDING>)')\n",
    "    data_point = data_point[:_slice]\n",
    "    prompt = random.choice(prompt_cands)\n",
    "    input = prompt + f'\\nExcerpt: {data_point}'\n",
    "\n",
    "    return input\n",
    "\n",
    "print(prompt_engineering(dataset['test']['context'][0]))"
   ]
  },
  {
   "cell_type": "code",
   "execution_count": 17,
   "metadata": {},
   "outputs": [
    {
     "data": {
      "text/plain": [
       "['holding that actual damages under respa included emotional damages',\n",
       " 'holding that increased fear of flooding was a matter that factfinder could properly consider in assessing severance damages',\n",
       " 'holding that local buyers fear of possible knapweed infestation legitimately affected calculation of severance damages',\n",
       " 'recognizing concept of stigma damages as they apply to property which is in fact contaminated',\n",
       " 'holding that stigma damages were properly included in calculation of severance damages where proximity of gas pipeline could trigger fears about possible mishaps']"
      ]
     },
     "execution_count": 17,
     "metadata": {},
     "output_type": "execute_result"
    }
   ],
   "source": [
    "dataset['test']['endings'][0]"
   ]
  },
  {
   "cell_type": "code",
   "execution_count": 19,
   "metadata": {},
   "outputs": [
    {
     "data": {
      "text/plain": [
       "['0: holding that actual damages under respa included emotional damages',\n",
       " '1: holding that increased fear of flooding was a matter that factfinder could properly consider in assessing severance damages',\n",
       " '2: holding that local buyers fear of possible knapweed infestation legitimately affected calculation of severance damages',\n",
       " '3: recognizing concept of stigma damages as they apply to property which is in fact contaminated',\n",
       " '4: holding that stigma damages were properly included in calculation of severance damages where proximity of gas pipeline could trigger fears about possible mishaps']"
      ]
     },
     "execution_count": 19,
     "metadata": {},
     "output_type": "execute_result"
    }
   ],
   "source": [
    "[str(n) + f': {c}' for n,c in enumerate(dataset['test']['endings'][0])]"
   ]
  },
  {
   "cell_type": "code",
   "execution_count": 21,
   "metadata": {},
   "outputs": [
    {
     "data": {
      "text/plain": [
       "DatasetDict({\n",
       "    train: Dataset({\n",
       "        features: ['context', 'endings', 'label'],\n",
       "        num_rows: 45000\n",
       "    })\n",
       "    test: Dataset({\n",
       "        features: ['context', 'endings', 'label'],\n",
       "        num_rows: 3600\n",
       "    })\n",
       "    validation: Dataset({\n",
       "        features: ['context', 'endings', 'label'],\n",
       "        num_rows: 3900\n",
       "    })\n",
       "})"
      ]
     },
     "execution_count": 21,
     "metadata": {},
     "output_type": "execute_result"
    }
   ],
   "source": [
    "dataset"
   ]
  },
  {
   "cell_type": "code",
   "execution_count": 1,
   "metadata": {},
   "outputs": [
    {
     "name": "stdout",
     "output_type": "stream",
     "text": [
      "\n",
      "===================================BUG REPORT===================================\n",
      "Welcome to bitsandbytes. For bug reports, please run\n",
      "\n",
      "python -m bitsandbytes\n",
      "\n",
      " and submit this information together with your error trace to: https://github.com/TimDettmers/bitsandbytes/issues\n",
      "================================================================================\n",
      "bin /home/laal_intern003/anaconda/envs/legal-master/lib/python3.8/site-packages/bitsandbytes/libbitsandbytes_cpu.so\n",
      "/home/laal_intern003/anaconda/envs/legal-master/lib/python3.8/site-packages/bitsandbytes/libbitsandbytes_cpu.so: undefined symbol: cadam32bit_grad_fp32\n",
      "CUDA SETUP: Loading binary /home/laal_intern003/anaconda/envs/legal-master/lib/python3.8/site-packages/bitsandbytes/libbitsandbytes_cpu.so...\n"
     ]
    },
    {
     "name": "stderr",
     "output_type": "stream",
     "text": [
      "/home/laal_intern003/anaconda/envs/legal-master/lib/python3.8/site-packages/bitsandbytes/cextension.py:34: UserWarning: The installed version of bitsandbytes was compiled without GPU support. 8-bit optimizers, 8-bit multiplication, and GPU quantization are unavailable.\n",
      "  warn(\"The installed version of bitsandbytes was compiled without GPU support. \"\n"
     ]
    }
   ],
   "source": [
    "from test import make_dataset, prompt_engineering"
   ]
  },
  {
   "cell_type": "code",
   "execution_count": 5,
   "metadata": {},
   "outputs": [
    {
     "name": "stdout",
     "output_type": "stream",
     "text": [
      "Datasets are succesfully loaded\n"
     ]
    },
    {
     "data": {
      "application/vnd.jupyter.widget-view+json": {
       "model_id": "88a9ed0b5f4b4cedbf387689f3c2a6c6",
       "version_major": 2,
       "version_minor": 0
      },
      "text/plain": [
       "Map:   0%|          | 0/3600 [00:00<?, ? examples/s]"
      ]
     },
     "metadata": {},
     "output_type": "display_data"
    }
   ],
   "source": [
    "import argparse\n",
    "import random\n",
    "parser = argparse.ArgumentParser()\n",
    "parser.add_argument('--data_dir',\n",
    "                    type = str,\n",
    "                    default = './dataset',\n",
    "                    help = 'Where LexGlue dataset is stored')\n",
    "\n",
    "args = parser.parse_args(args = [])\n",
    "dataset = make_dataset(args)"
   ]
  },
  {
   "cell_type": "code",
   "execution_count": 34,
   "metadata": {},
   "outputs": [],
   "source": [
    "\n",
    "def make_dataset(args):\n",
    "    # build dataset\n",
    "    path = args.data_dir\n",
    "\n",
    "    # load file\n",
    "    if os.path.isfile(os.path.join(path, 'prompt.pkl')):\n",
    "        with open(os.path.join(path, 'prompt.pkl'), 'rb') as f:\n",
    "            dataset = pickle.load(f)\n",
    "    else:\n",
    "        dataset_list = build_dataset(['case_hold'], path)\n",
    "        dataset = dataset_list[0]['test']\n",
    "        random.seed(7)\n",
    "        dataset = dataset.shuffle().map(prompt_engineering).select_columns(['input', 'label'])\n",
    "        \n",
    "        # save file\n",
    "        with open(os.path.join(path, 'prompt.pkl'), 'wb') as f:\n",
    "            pickle.dump(dataset, f)\n",
    "\n",
    "    return dataset\n",
    "\n",
    "def prompt_engineering(data_point):\n",
    "\n",
    "    prompt_cands = [\n",
    "    \"Please select the most suitable summary of the legal ruling that accompanies the relevant referenced decisions for the specific case. The following excerpt is from the court's decision.\",\n",
    "    \"Kindly choose the concise summary of the legal ruling that accompanies the relevant referenced decisions applicable to the given case. Provided below is an excerpt from the court decision.\",\n",
    "    \"Please decide on the most appropriate summary of the legal ruling that accompanies the relevant referenced decisions, which are relevant to the given case. Here is an excerpt from the court decision for your consideration.\",\n",
    "    \"Here is an excerpt from the court decision for the case. Please choose the most appropriate short summary of the legal ruling that accompanies the referenced decisions relevant to the case.\",\n",
    "    \"Consider the following excerpt from the court decision for the case. Your task is to select the most appropriate short summary of the legal ruling that accompanies the referenced decisions relevant to the case.\",\n",
    "    \"Given the excerpt from the court decision for the case, your task is to choose the most appropriate short summary of the legal ruling that accompanies the referenced decisions relevant to the case.\",\n",
    "    \"Please refer to the following excerpt from the court decision for the case. Your task is to choose the most appropriate short summary of the legal ruling that accompanies the referenced decisions relevant to the case.\",\n",
    "    \"Your task is to choose the most appropriate short summary of the legal ruling that accompanies the referenced decisions relevant to the case, using the excerpt from the court decision provided below.\",\n",
    "    \"Please review the following excerpt from the court decision for the case. Your task is to choose the most appropriate short summary of the legal ruling that accompanies the referenced decisions relevant to the case.\",\n",
    "    \"Here is the excerpt from the court decision for the case. Your task is to choose the most appropriate short summary of the legal ruling that accompanies the referenced decisions relevant to the case.\"\n",
    "    ] # generated by Chat-GPT\n",
    "\n",
    "    # print(data_point)    \n",
    "    _slice = data_point['context'].find('(<HOLDING>)')\n",
    "    excerpt = data_point['context'][:_slice]\n",
    "    choices = [str(n) + f': {c}' for n,c in enumerate(data_point['endings'])]\n",
    "    prompt = random.choice(prompt_cands)\n",
    "    input = prompt + f'\\nExcerpt: {excerpt}' + f'\\nChoices: {choices}'\n",
    "\n",
    "    return {\n",
    "        'question' : input\n",
    "    }"
   ]
  },
  {
   "cell_type": "code",
   "execution_count": 32,
   "metadata": {},
   "outputs": [
    {
     "data": {
      "application/vnd.jupyter.widget-view+json": {
       "model_id": "150acb4e4ea8486192e7992de9337bda",
       "version_major": 2,
       "version_minor": 0
      },
      "text/plain": [
       "Map:   0%|          | 0/3600 [00:00<?, ? examples/s]"
      ]
     },
     "metadata": {},
     "output_type": "display_data"
    },
    {
     "ename": "KeyError",
     "evalue": "'context'",
     "output_type": "error",
     "traceback": [
      "\u001b[0;31m---------------------------------------------------------------------------\u001b[0m",
      "\u001b[0;31mKeyError\u001b[0m                                  Traceback (most recent call last)",
      "Cell \u001b[0;32mIn[32], line 3\u001b[0m\n\u001b[1;32m      1\u001b[0m \u001b[38;5;28;01mimport\u001b[39;00m \u001b[38;5;21;01mrandom\u001b[39;00m\n\u001b[1;32m      2\u001b[0m random\u001b[38;5;241m.\u001b[39mseed(\u001b[38;5;241m7\u001b[39m)\n\u001b[0;32m----> 3\u001b[0m dataset \u001b[38;5;241m=\u001b[39m \u001b[43mdataset\u001b[49m\u001b[38;5;241;43m.\u001b[39;49m\u001b[43mshuffle\u001b[49m\u001b[43m(\u001b[49m\u001b[43m)\u001b[49m\u001b[38;5;241;43m.\u001b[39;49m\u001b[43mmap\u001b[49m\u001b[43m(\u001b[49m\u001b[43mprompt_engineering\u001b[49m\u001b[43m)\u001b[49m\u001b[38;5;241m.\u001b[39mselect_columns([\u001b[38;5;124m'\u001b[39m\u001b[38;5;124mquestion\u001b[39m\u001b[38;5;124m'\u001b[39m, \u001b[38;5;124m'\u001b[39m\u001b[38;5;124mlabel\u001b[39m\u001b[38;5;124m'\u001b[39m])\n",
      "File \u001b[0;32m~/anaconda/envs/legal-master/lib/python3.8/site-packages/datasets/arrow_dataset.py:578\u001b[0m, in \u001b[0;36mtransmit_tasks.<locals>.wrapper\u001b[0;34m(*args, **kwargs)\u001b[0m\n\u001b[1;32m    <a href='file:///~/anaconda/envs/legal-master/lib/python3.8/site-packages/datasets/arrow_dataset.py?line=575'>576</a>\u001b[0m     \u001b[39mself\u001b[39m: \u001b[39m\"\u001b[39m\u001b[39mDataset\u001b[39m\u001b[39m\"\u001b[39m \u001b[39m=\u001b[39m kwargs\u001b[39m.\u001b[39mpop(\u001b[39m\"\u001b[39m\u001b[39mself\u001b[39m\u001b[39m\"\u001b[39m)\n\u001b[1;32m    <a href='file:///~/anaconda/envs/legal-master/lib/python3.8/site-packages/datasets/arrow_dataset.py?line=576'>577</a>\u001b[0m \u001b[39m# apply actual function\u001b[39;00m\n\u001b[0;32m--> <a href='file:///~/anaconda/envs/legal-master/lib/python3.8/site-packages/datasets/arrow_dataset.py?line=577'>578</a>\u001b[0m out: Union[\u001b[39m\"\u001b[39m\u001b[39mDataset\u001b[39m\u001b[39m\"\u001b[39m, \u001b[39m\"\u001b[39m\u001b[39mDatasetDict\u001b[39m\u001b[39m\"\u001b[39m] \u001b[39m=\u001b[39m func(\u001b[39mself\u001b[39;49m, \u001b[39m*\u001b[39;49margs, \u001b[39m*\u001b[39;49m\u001b[39m*\u001b[39;49mkwargs)\n\u001b[1;32m    <a href='file:///~/anaconda/envs/legal-master/lib/python3.8/site-packages/datasets/arrow_dataset.py?line=578'>579</a>\u001b[0m datasets: List[\u001b[39m\"\u001b[39m\u001b[39mDataset\u001b[39m\u001b[39m\"\u001b[39m] \u001b[39m=\u001b[39m \u001b[39mlist\u001b[39m(out\u001b[39m.\u001b[39mvalues()) \u001b[39mif\u001b[39;00m \u001b[39misinstance\u001b[39m(out, \u001b[39mdict\u001b[39m) \u001b[39melse\u001b[39;00m [out]\n\u001b[1;32m    <a href='file:///~/anaconda/envs/legal-master/lib/python3.8/site-packages/datasets/arrow_dataset.py?line=579'>580</a>\u001b[0m \u001b[39mfor\u001b[39;00m dataset \u001b[39min\u001b[39;00m datasets:\n\u001b[1;32m    <a href='file:///~/anaconda/envs/legal-master/lib/python3.8/site-packages/datasets/arrow_dataset.py?line=580'>581</a>\u001b[0m     \u001b[39m# Remove task templates if a column mapping of the template is no longer valid\u001b[39;00m\n",
      "File \u001b[0;32m~/anaconda/envs/legal-master/lib/python3.8/site-packages/datasets/arrow_dataset.py:543\u001b[0m, in \u001b[0;36mtransmit_format.<locals>.wrapper\u001b[0;34m(*args, **kwargs)\u001b[0m\n\u001b[1;32m    <a href='file:///~/anaconda/envs/legal-master/lib/python3.8/site-packages/datasets/arrow_dataset.py?line=535'>536</a>\u001b[0m self_format \u001b[39m=\u001b[39m {\n\u001b[1;32m    <a href='file:///~/anaconda/envs/legal-master/lib/python3.8/site-packages/datasets/arrow_dataset.py?line=536'>537</a>\u001b[0m     \u001b[39m\"\u001b[39m\u001b[39mtype\u001b[39m\u001b[39m\"\u001b[39m: \u001b[39mself\u001b[39m\u001b[39m.\u001b[39m_format_type,\n\u001b[1;32m    <a href='file:///~/anaconda/envs/legal-master/lib/python3.8/site-packages/datasets/arrow_dataset.py?line=537'>538</a>\u001b[0m     \u001b[39m\"\u001b[39m\u001b[39mformat_kwargs\u001b[39m\u001b[39m\"\u001b[39m: \u001b[39mself\u001b[39m\u001b[39m.\u001b[39m_format_kwargs,\n\u001b[1;32m    <a href='file:///~/anaconda/envs/legal-master/lib/python3.8/site-packages/datasets/arrow_dataset.py?line=538'>539</a>\u001b[0m     \u001b[39m\"\u001b[39m\u001b[39mcolumns\u001b[39m\u001b[39m\"\u001b[39m: \u001b[39mself\u001b[39m\u001b[39m.\u001b[39m_format_columns,\n\u001b[1;32m    <a href='file:///~/anaconda/envs/legal-master/lib/python3.8/site-packages/datasets/arrow_dataset.py?line=539'>540</a>\u001b[0m     \u001b[39m\"\u001b[39m\u001b[39moutput_all_columns\u001b[39m\u001b[39m\"\u001b[39m: \u001b[39mself\u001b[39m\u001b[39m.\u001b[39m_output_all_columns,\n\u001b[1;32m    <a href='file:///~/anaconda/envs/legal-master/lib/python3.8/site-packages/datasets/arrow_dataset.py?line=540'>541</a>\u001b[0m }\n\u001b[1;32m    <a href='file:///~/anaconda/envs/legal-master/lib/python3.8/site-packages/datasets/arrow_dataset.py?line=541'>542</a>\u001b[0m \u001b[39m# apply actual function\u001b[39;00m\n\u001b[0;32m--> <a href='file:///~/anaconda/envs/legal-master/lib/python3.8/site-packages/datasets/arrow_dataset.py?line=542'>543</a>\u001b[0m out: Union[\u001b[39m\"\u001b[39m\u001b[39mDataset\u001b[39m\u001b[39m\"\u001b[39m, \u001b[39m\"\u001b[39m\u001b[39mDatasetDict\u001b[39m\u001b[39m\"\u001b[39m] \u001b[39m=\u001b[39m func(\u001b[39mself\u001b[39;49m, \u001b[39m*\u001b[39;49margs, \u001b[39m*\u001b[39;49m\u001b[39m*\u001b[39;49mkwargs)\n\u001b[1;32m    <a href='file:///~/anaconda/envs/legal-master/lib/python3.8/site-packages/datasets/arrow_dataset.py?line=543'>544</a>\u001b[0m datasets: List[\u001b[39m\"\u001b[39m\u001b[39mDataset\u001b[39m\u001b[39m\"\u001b[39m] \u001b[39m=\u001b[39m \u001b[39mlist\u001b[39m(out\u001b[39m.\u001b[39mvalues()) \u001b[39mif\u001b[39;00m \u001b[39misinstance\u001b[39m(out, \u001b[39mdict\u001b[39m) \u001b[39melse\u001b[39;00m [out]\n\u001b[1;32m    <a href='file:///~/anaconda/envs/legal-master/lib/python3.8/site-packages/datasets/arrow_dataset.py?line=544'>545</a>\u001b[0m \u001b[39m# re-apply format to the output\u001b[39;00m\n",
      "File \u001b[0;32m~/anaconda/envs/legal-master/lib/python3.8/site-packages/datasets/arrow_dataset.py:3073\u001b[0m, in \u001b[0;36mDataset.map\u001b[0;34m(self, function, with_indices, with_rank, input_columns, batched, batch_size, drop_last_batch, remove_columns, keep_in_memory, load_from_cache_file, cache_file_name, writer_batch_size, features, disable_nullable, fn_kwargs, num_proc, suffix_template, new_fingerprint, desc)\u001b[0m\n\u001b[1;32m   <a href='file:///~/anaconda/envs/legal-master/lib/python3.8/site-packages/datasets/arrow_dataset.py?line=3064'>3065</a>\u001b[0m \u001b[39mif\u001b[39;00m transformed_dataset \u001b[39mis\u001b[39;00m \u001b[39mNone\u001b[39;00m:\n\u001b[1;32m   <a href='file:///~/anaconda/envs/legal-master/lib/python3.8/site-packages/datasets/arrow_dataset.py?line=3065'>3066</a>\u001b[0m     \u001b[39mwith\u001b[39;00m logging\u001b[39m.\u001b[39mtqdm(\n\u001b[1;32m   <a href='file:///~/anaconda/envs/legal-master/lib/python3.8/site-packages/datasets/arrow_dataset.py?line=3066'>3067</a>\u001b[0m         disable\u001b[39m=\u001b[39m\u001b[39mnot\u001b[39;00m logging\u001b[39m.\u001b[39mis_progress_bar_enabled(),\n\u001b[1;32m   <a href='file:///~/anaconda/envs/legal-master/lib/python3.8/site-packages/datasets/arrow_dataset.py?line=3067'>3068</a>\u001b[0m         unit\u001b[39m=\u001b[39m\u001b[39m\"\u001b[39m\u001b[39m examples\u001b[39m\u001b[39m\"\u001b[39m,\n\u001b[0;32m   (...)\u001b[0m\n\u001b[1;32m   <a href='file:///~/anaconda/envs/legal-master/lib/python3.8/site-packages/datasets/arrow_dataset.py?line=3070'>3071</a>\u001b[0m         desc\u001b[39m=\u001b[39mdesc \u001b[39mor\u001b[39;00m \u001b[39m\"\u001b[39m\u001b[39mMap\u001b[39m\u001b[39m\"\u001b[39m,\n\u001b[1;32m   <a href='file:///~/anaconda/envs/legal-master/lib/python3.8/site-packages/datasets/arrow_dataset.py?line=3071'>3072</a>\u001b[0m     ) \u001b[39mas\u001b[39;00m pbar:\n\u001b[0;32m-> <a href='file:///~/anaconda/envs/legal-master/lib/python3.8/site-packages/datasets/arrow_dataset.py?line=3072'>3073</a>\u001b[0m         \u001b[39mfor\u001b[39;00m rank, done, content \u001b[39min\u001b[39;00m Dataset\u001b[39m.\u001b[39m_map_single(\u001b[39m*\u001b[39m\u001b[39m*\u001b[39mdataset_kwargs):\n\u001b[1;32m   <a href='file:///~/anaconda/envs/legal-master/lib/python3.8/site-packages/datasets/arrow_dataset.py?line=3073'>3074</a>\u001b[0m             \u001b[39mif\u001b[39;00m done:\n\u001b[1;32m   <a href='file:///~/anaconda/envs/legal-master/lib/python3.8/site-packages/datasets/arrow_dataset.py?line=3074'>3075</a>\u001b[0m                 shards_done \u001b[39m+\u001b[39m\u001b[39m=\u001b[39m \u001b[39m1\u001b[39m\n",
      "File \u001b[0;32m~/anaconda/envs/legal-master/lib/python3.8/site-packages/datasets/arrow_dataset.py:3427\u001b[0m, in \u001b[0;36mDataset._map_single\u001b[0;34m(shard, function, with_indices, with_rank, input_columns, batched, batch_size, drop_last_batch, remove_columns, keep_in_memory, cache_file_name, writer_batch_size, features, disable_nullable, fn_kwargs, new_fingerprint, rank, offset)\u001b[0m\n\u001b[1;32m   <a href='file:///~/anaconda/envs/legal-master/lib/python3.8/site-packages/datasets/arrow_dataset.py?line=3424'>3425</a>\u001b[0m _time \u001b[39m=\u001b[39m time\u001b[39m.\u001b[39mtime()\n\u001b[1;32m   <a href='file:///~/anaconda/envs/legal-master/lib/python3.8/site-packages/datasets/arrow_dataset.py?line=3425'>3426</a>\u001b[0m \u001b[39mfor\u001b[39;00m i, example \u001b[39min\u001b[39;00m shard_iterable:\n\u001b[0;32m-> <a href='file:///~/anaconda/envs/legal-master/lib/python3.8/site-packages/datasets/arrow_dataset.py?line=3426'>3427</a>\u001b[0m     example \u001b[39m=\u001b[39m apply_function_on_filtered_inputs(example, i, offset\u001b[39m=\u001b[39;49moffset)\n\u001b[1;32m   <a href='file:///~/anaconda/envs/legal-master/lib/python3.8/site-packages/datasets/arrow_dataset.py?line=3427'>3428</a>\u001b[0m     \u001b[39mif\u001b[39;00m update_data:\n\u001b[1;32m   <a href='file:///~/anaconda/envs/legal-master/lib/python3.8/site-packages/datasets/arrow_dataset.py?line=3428'>3429</a>\u001b[0m         \u001b[39mif\u001b[39;00m i \u001b[39m==\u001b[39m \u001b[39m0\u001b[39m:\n",
      "File \u001b[0;32m~/anaconda/envs/legal-master/lib/python3.8/site-packages/datasets/arrow_dataset.py:3330\u001b[0m, in \u001b[0;36mDataset._map_single.<locals>.apply_function_on_filtered_inputs\u001b[0;34m(pa_inputs, indices, check_same_num_examples, offset)\u001b[0m\n\u001b[1;32m   <a href='file:///~/anaconda/envs/legal-master/lib/python3.8/site-packages/datasets/arrow_dataset.py?line=3327'>3328</a>\u001b[0m \u001b[39mif\u001b[39;00m with_rank:\n\u001b[1;32m   <a href='file:///~/anaconda/envs/legal-master/lib/python3.8/site-packages/datasets/arrow_dataset.py?line=3328'>3329</a>\u001b[0m     additional_args \u001b[39m+\u001b[39m\u001b[39m=\u001b[39m (rank,)\n\u001b[0;32m-> <a href='file:///~/anaconda/envs/legal-master/lib/python3.8/site-packages/datasets/arrow_dataset.py?line=3329'>3330</a>\u001b[0m processed_inputs \u001b[39m=\u001b[39m function(\u001b[39m*\u001b[39;49mfn_args, \u001b[39m*\u001b[39;49madditional_args, \u001b[39m*\u001b[39;49m\u001b[39m*\u001b[39;49mfn_kwargs)\n\u001b[1;32m   <a href='file:///~/anaconda/envs/legal-master/lib/python3.8/site-packages/datasets/arrow_dataset.py?line=3330'>3331</a>\u001b[0m \u001b[39mif\u001b[39;00m \u001b[39misinstance\u001b[39m(processed_inputs, LazyDict):\n\u001b[1;32m   <a href='file:///~/anaconda/envs/legal-master/lib/python3.8/site-packages/datasets/arrow_dataset.py?line=3331'>3332</a>\u001b[0m     processed_inputs \u001b[39m=\u001b[39m {\n\u001b[1;32m   <a href='file:///~/anaconda/envs/legal-master/lib/python3.8/site-packages/datasets/arrow_dataset.py?line=3332'>3333</a>\u001b[0m         k: v \u001b[39mfor\u001b[39;00m k, v \u001b[39min\u001b[39;00m processed_inputs\u001b[39m.\u001b[39mdata\u001b[39m.\u001b[39mitems() \u001b[39mif\u001b[39;00m k \u001b[39mnot\u001b[39;00m \u001b[39min\u001b[39;00m processed_inputs\u001b[39m.\u001b[39mkeys_to_format\n\u001b[1;32m   <a href='file:///~/anaconda/envs/legal-master/lib/python3.8/site-packages/datasets/arrow_dataset.py?line=3333'>3334</a>\u001b[0m     }\n",
      "Cell \u001b[0;32mIn[17], line 37\u001b[0m, in \u001b[0;36mprompt_engineering\u001b[0;34m(data_point)\u001b[0m\n\u001b[1;32m     23\u001b[0m prompt_cands \u001b[38;5;241m=\u001b[39m [\n\u001b[1;32m     24\u001b[0m \u001b[38;5;124m\"\u001b[39m\u001b[38;5;124mPlease select the most suitable summary of the legal ruling that accompanies the relevant referenced decisions for the specific case. The following excerpt is from the court\u001b[39m\u001b[38;5;124m'\u001b[39m\u001b[38;5;124ms decision.\u001b[39m\u001b[38;5;124m\"\u001b[39m,\n\u001b[1;32m     25\u001b[0m \u001b[38;5;124m\"\u001b[39m\u001b[38;5;124mKindly choose the concise summary of the legal ruling that accompanies the relevant referenced decisions applicable to the given case. Provided below is an excerpt from the court decision.\u001b[39m\u001b[38;5;124m\"\u001b[39m,\n\u001b[0;32m   (...)\u001b[0m\n\u001b[1;32m     33\u001b[0m \u001b[38;5;124m\"\u001b[39m\u001b[38;5;124mHere is the excerpt from the court decision for the case. Your task is to choose the most appropriate short summary of the legal ruling that accompanies the referenced decisions relevant to the case.\u001b[39m\u001b[38;5;124m\"\u001b[39m\n\u001b[1;32m     34\u001b[0m ] \u001b[38;5;66;03m# generated by Chat-GPT\u001b[39;00m\n\u001b[1;32m     36\u001b[0m \u001b[38;5;66;03m# print(data_point)    \u001b[39;00m\n\u001b[0;32m---> 37\u001b[0m _slice \u001b[38;5;241m=\u001b[39m \u001b[43mdata_point\u001b[49m\u001b[43m[\u001b[49m\u001b[38;5;124;43m'\u001b[39;49m\u001b[38;5;124;43mcontext\u001b[39;49m\u001b[38;5;124;43m'\u001b[39;49m\u001b[43m]\u001b[49m\u001b[38;5;241m.\u001b[39mfind(\u001b[38;5;124m'\u001b[39m\u001b[38;5;124m(<HOLDING>)\u001b[39m\u001b[38;5;124m'\u001b[39m)\n\u001b[1;32m     38\u001b[0m excerpt \u001b[38;5;241m=\u001b[39m data_point[\u001b[38;5;124m'\u001b[39m\u001b[38;5;124mcontext\u001b[39m\u001b[38;5;124m'\u001b[39m][:_slice]\n\u001b[1;32m     39\u001b[0m choices \u001b[38;5;241m=\u001b[39m [\u001b[38;5;28mstr\u001b[39m(n) \u001b[38;5;241m+\u001b[39m \u001b[38;5;124mf\u001b[39m\u001b[38;5;124m'\u001b[39m\u001b[38;5;124m: \u001b[39m\u001b[38;5;132;01m{\u001b[39;00mc\u001b[38;5;132;01m}\u001b[39;00m\u001b[38;5;124m'\u001b[39m \u001b[38;5;28;01mfor\u001b[39;00m n,c \u001b[38;5;129;01min\u001b[39;00m \u001b[38;5;28menumerate\u001b[39m(data_point[\u001b[38;5;124m'\u001b[39m\u001b[38;5;124mendings\u001b[39m\u001b[38;5;124m'\u001b[39m])]\n",
      "File \u001b[0;32m~/anaconda/envs/legal-master/lib/python3.8/site-packages/datasets/formatting/formatting.py:270\u001b[0m, in \u001b[0;36mLazyDict.__getitem__\u001b[0;34m(self, key)\u001b[0m\n\u001b[1;32m    <a href='file:///~/anaconda/envs/legal-master/lib/python3.8/site-packages/datasets/formatting/formatting.py?line=268'>269</a>\u001b[0m \u001b[39mdef\u001b[39;00m \u001b[39m__getitem__\u001b[39m(\u001b[39mself\u001b[39m, key):\n\u001b[0;32m--> <a href='file:///~/anaconda/envs/legal-master/lib/python3.8/site-packages/datasets/formatting/formatting.py?line=269'>270</a>\u001b[0m     value \u001b[39m=\u001b[39m \u001b[39mself\u001b[39;49m\u001b[39m.\u001b[39;49mdata[key]\n\u001b[1;32m    <a href='file:///~/anaconda/envs/legal-master/lib/python3.8/site-packages/datasets/formatting/formatting.py?line=270'>271</a>\u001b[0m     \u001b[39mif\u001b[39;00m key \u001b[39min\u001b[39;00m \u001b[39mself\u001b[39m\u001b[39m.\u001b[39mkeys_to_format:\n\u001b[1;32m    <a href='file:///~/anaconda/envs/legal-master/lib/python3.8/site-packages/datasets/formatting/formatting.py?line=271'>272</a>\u001b[0m         value \u001b[39m=\u001b[39m \u001b[39mself\u001b[39m\u001b[39m.\u001b[39mformat(key)\n",
      "\u001b[0;31mKeyError\u001b[0m: 'context'"
     ]
    }
   ],
   "source": [
    "import random\n",
    "random.seed(7)\n",
    "dataset = dataset.shuffle().map(prompt_engineering).select_columns(['question', 'label'])"
   ]
  },
  {
   "cell_type": "code",
   "execution_count": 31,
   "metadata": {},
   "outputs": [
    {
     "data": {
      "text/plain": [
       "\"Given the excerpt from the court decision for the case, your task is to choose the most appropriate short summary of the legal ruling that accompanies the referenced decisions relevant to the case.\\nExcerpt: of acquittal were entered on these counts by the Court because the jury’s findings did not identify specified unlawful activities from which the funds were acquired by the defendant that were distinct from the alleged money laundering activities. See United States v. Howard, No. 02-079, slip. op. at 8 (D.D.C. Feb. 5, 2003); see also United States v. Seward, 272 F.3d 831, 836 (7th Cir.2001) (“The transaction or transactions that created the criminally-derived proceeds must be distinct from the money-laundering transaction because the money laundering statutes criminalize ‘transaction^] in proceeds, not the transaction^] that create [ ] the proceeds.' ”) (quoting United States v. Mankarious, 151 F.3d 694, 705 (7th Cir.1998)); United States v. Butler, 211 F.3d 826, 830 (4th Cir.2000) \\nChoices: ['0: holding that the evidence of  1957 money laundering was sufficient where the government proved aggregate withdrawals of far more than 10000 above the amount of clean funds available the vast majority of funds transferred to the defendants business account from the food stamp reimbursements were not supported by evidence of legitimate food sales', '1: holding that an order to disgorge funds was final even though the order did not distribute the funds', '2: holding that a money laundering enhancement was applicable because defendant knew the funds were represented to be proceeds of a drug transaction', '3: holding that defendant violated section 4b when she misappropriated pool participant funds by soliciting funds for trading and then trading only a small percentage of those funds while disbursing the rest of the funds to investors herself and her family', '4: holding that to establish a money laundering offense the laundering of funds cannot occur in the same transaction through which those funds first become tainted by crime']\""
      ]
     },
     "execution_count": 31,
     "metadata": {},
     "output_type": "execute_result"
    }
   ],
   "source": [
    "dataset['question'][10]"
   ]
  },
  {
   "cell_type": "code",
   "execution_count": 1,
   "metadata": {},
   "outputs": [],
   "source": [
    "\n",
    "# pipeeline\n",
    "\n",
    "def make_dataset(args):\n",
    "    # build dataset\n",
    "    path = args.data_dir\n",
    "\n",
    "    # load file\n",
    "    if os.path.isfile(os.path.join(path, 'prompt.pkl')):\n",
    "        with open(os.path.join(path, 'prompt.pkl'), 'rb') as f:\n",
    "            dataset = pickle.load(f)\n",
    "    else:\n",
    "        dataset_list = build_dataset(['case_hold'], path)\n",
    "        dataset = dataset_list[0]['test']\n",
    "        random.seed(7)\n",
    "        dataset = dataset.shuffle().map(prompt_engineering).select_columns(['question', 'label'])\n",
    "        \n",
    "        # save file\n",
    "        with open(os.path.join(path, 'prompt.pkl'), 'wb') as f:\n",
    "            pickle.dump(dataset, f)\n",
    "\n",
    "    return dataset\n",
    "\n",
    "def prompt_engineering(data_point):\n",
    "\n",
    "    prompt_cands = [\n",
    "    \"Please select the most suitable summary of the legal ruling that accompanies the relevant referenced decisions for the specific case. The following excerpt is from the court's decision.\",\n",
    "    \"Kindly choose the concise summary of the legal ruling that accompanies the relevant referenced decisions applicable to the given case. Provided below is an excerpt from the court decision.\",\n",
    "    \"Please decide on the most appropriate summary of the legal ruling that accompanies the relevant referenced decisions, which are relevant to the given case. Here is an excerpt from the court decision for your consideration.\",\n",
    "    \"Here is an excerpt from the court decision for the case. Please choose the most appropriate short summary of the legal ruling that accompanies the referenced decisions relevant to the case.\",\n",
    "    \"Consider the following excerpt from the court decision for the case. Your task is to select the most appropriate short summary of the legal ruling that accompanies the referenced decisions relevant to the case.\",\n",
    "    \"Given the excerpt from the court decision for the case, your task is to choose the most appropriate short summary of the legal ruling that accompanies the referenced decisions relevant to the case.\",\n",
    "    \"Please refer to the following excerpt from the court decision for the case. Your task is to choose the most appropriate short summary of the legal ruling that accompanies the referenced decisions relevant to the case.\",\n",
    "    \"Your task is to choose the most appropriate short summary of the legal ruling that accompanies the referenced decisions relevant to the case, using the excerpt from the court decision provided below.\",\n",
    "    \"Please review the following excerpt from the court decision for the case. Your task is to choose the most appropriate short summary of the legal ruling that accompanies the referenced decisions relevant to the case.\",\n",
    "    \"Here is the excerpt from the court decision for the case. Your task is to choose the most appropriate short summary of the legal ruling that accompanies the referenced decisions relevant to the case.\"\n",
    "    ] # generated by Chat-GPT\n",
    "\n",
    "    \n",
    "    _slice = data_point['context'].find('(<HOLDING>)')\n",
    "    excerpt = data_point['context'][:_slice]\n",
    "    choices = [str(n) + f': {c}' for n,c in enumerate(data_point['endings'])]\n",
    "    prompt = random.choice(prompt_cands)\n",
    "    input = prompt + f'\\nExcerpt: {excerpt}' + f'\\nChoices: {choices}'\n",
    "\n",
    "    return {\n",
    "        'question' : input\n",
    "    }"
   ]
  },
  {
   "cell_type": "code",
   "execution_count": 2,
   "metadata": {},
   "outputs": [
    {
     "ename": "NameError",
     "evalue": "name 'args' is not defined",
     "output_type": "error",
     "traceback": [
      "\u001b[0;31m---------------------------------------------------------------------------\u001b[0m",
      "\u001b[0;31mNameError\u001b[0m                                 Traceback (most recent call last)",
      "Cell \u001b[0;32mIn[2], line 2\u001b[0m\n\u001b[1;32m      1\u001b[0m \u001b[38;5;28;01mfrom\u001b[39;00m \u001b[38;5;21;01mdataset\u001b[39;00m \u001b[38;5;28;01mimport\u001b[39;00m \u001b[38;5;241m*\u001b[39m\n\u001b[0;32m----> 2\u001b[0m dataset \u001b[38;5;241m=\u001b[39m make_dataset(\u001b[43margs\u001b[49m)\n",
      "\u001b[0;31mNameError\u001b[0m: name 'args' is not defined"
     ]
    }
   ],
   "source": [
    "from dataset import *\n",
    "dataset = make_dataset(args)"
   ]
  },
  {
   "cell_type": "code",
   "execution_count": 13,
   "metadata": {},
   "outputs": [
    {
     "data": {
      "text/plain": [
       "\"Please review the following excerpt from the court decision for the case. Your task is to choose the most appropriate short summary of the legal ruling that accompanies the referenced decisions relevant to the case.\\nExcerpt: been very emphatic that, except in cases where only one inference can be drawn from the facts, negligence, proximate cause, and foreseeability are questions of fact for the jury. See St. Clair v. Denny, 245 Kan. 414, 781 P.2d 1043, 1047 (1989); Baker v. City of Garden City, 240 Kan. 554, 731 P.2d 278, 281 (1987); Gard, 400 P.2d at 1000, 1002; Rowell, 176 P.2d at 595. As might be expected in an area of the law in which so much depends on the factual scenario of the particular case, the holdings of the Kansas cases that address causation are not clearly dispositive of the issue. However, we find that those cases whose facts most closely approximate those of the instant case support the conclusion that the district court improperly granted summary judgment. See Steele, 327 P.2d at 1065 \\nChoices: ['0: holding that in a  1983 action issue of probable cause is for the jury', '1: recognizing the cause of action', '2: recognizing the availability of a cause of action by manufacturer against supplier under consumer fraud act', '3: recognizing cause of action', '4: holding that demurrer improperly granted because dropping bottle of flammable liquid was reasonably probable such that it was not an intervening cause in action against bottle manufacturer']\""
      ]
     },
     "execution_count": 13,
     "metadata": {},
     "output_type": "execute_result"
    }
   ],
   "source": [
    "dataset['question'][10]"
   ]
  },
  {
   "cell_type": "code",
   "execution_count": null,
   "metadata": {},
   "outputs": [],
   "source": []
  }
 ],
 "metadata": {
  "interpreter": {
   "hash": "d3063c37d90bcb10f1b2014a6d07f7d2022c097e80076e30e11f05761f9578a7"
  },
  "kernelspec": {
   "display_name": "Python 3.11.3 ('legal-master')",
   "language": "python",
   "name": "python3"
  },
  "language_info": {
   "codemirror_mode": {
    "name": "ipython",
    "version": 3
   },
   "file_extension": ".py",
   "mimetype": "text/x-python",
   "name": "python",
   "nbconvert_exporter": "python",
   "pygments_lexer": "ipython3",
   "version": "3.8.16"
  },
  "orig_nbformat": 4
 },
 "nbformat": 4,
 "nbformat_minor": 2
}
